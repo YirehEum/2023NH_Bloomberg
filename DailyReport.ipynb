{
 "cells": [
  {
   "cell_type": "code",
   "execution_count": null,
   "id": "74218e01",
   "metadata": {},
   "outputs": [],
   "source": [
    "!pip install reportlab\n",
    "!pip install Django\n",
    "!pip install pyRXP\n",
    "!pip install \"reportlab[accel]\"\n",
    "!pip install \"reportlab[renderpm]\"\n",
    "!pip install \"reportlab[pycairo]\"\n",
    "!pip install Preppy\n",
    "!pip install reportlab.lib\n",
    "!pip install svglib\n",
    "# !pip install rlextra -I https://[NYGAZAAA@gmail.com]:[cz8L9!x7AwmMzfe]@www.reportlab.com/pypi\n",
    "!pip install yfinance"
   ]
  },
  {
   "cell_type": "code",
   "execution_count": 16,
   "id": "d6505a64",
   "metadata": {},
   "outputs": [],
   "source": [
    "from reportlab.lib.pagesizes import A4\n",
    "from reportlab.platypus import SimpleDocTemplate, Paragraph, Spacer, PageBreak, Image\n",
    "from reportlab.lib.styles import getSampleStyleSheet, ParagraphStyle\n",
    "from reportlab.lib.enums import TA_CENTER\n",
    "from reportlab.pdfbase.ttfonts import TTFont\n",
    "from reportlab.pdfbase import pdfmetrics\n",
    "from io import BytesIO\n",
    "from svglib.svglib import svg2rlg\n",
    "import matplotlib.pyplot as plt\n",
    "import pandas as pd\n",
    "import numpy as np\n",
    "import yfinance as yf\n",
    "import seaborn as sns\n",
    "import os"
   ]
  },
  {
   "cell_type": "code",
   "execution_count": 5,
   "id": "81581cde",
   "metadata": {},
   "outputs": [
    {
     "name": "stderr",
     "output_type": "stream",
     "text": [
      "_: No data found, symbol may be delisted\n"
     ]
    },
    {
     "data": {
      "text/plain": [
       "<Figure size 640x480 with 0 Axes>"
      ]
     },
     "metadata": {},
     "output_type": "display_data"
    }
   ],
   "source": [
    "PATH = './data/'\n",
    "REPORT_PATH = './report/'\n",
    "\n",
    "# PDF 문서 생성\n",
    "doc = SimpleDocTemplate(REPORT_PATH + 'Daily_Report_test.pdf', pagesize=A4, rightMargin=72, leftMargin=72, bottomMargin=18)\n",
    "Elements = []\n",
    "\n",
    "# 한글 폰트 등록\n",
    "pdfmetrics.registerFont(TTFont(\"HCR Bating\", \"HANBatang.ttf\"))\n",
    "pdfmetrics.registerFont(TTFont(\"HCR Bating Bold\", \"HANBatangB.ttf\"))\n",
    "\n",
    "# 스타일 정의\n",
    "style_normal = ParagraphStyle(\n",
    "    name='Normal',\n",
    "    fontSize=10,\n",
    "    leading=12,\n",
    "    fontName='HCR Bating',\n",
    ")\n",
    "style_heading = ParagraphStyle(\n",
    "    name='Heading',\n",
    "    fontSize=16,\n",
    "    leading=18,\n",
    "    fontName='HCR Bating Bold',\n",
    ")\n",
    "\n",
    "# 제목 페이지 추가\n",
    "title_text = \"Nasdaq 뉴스 데이터 데일리 레포트\"\n",
    "date_text = \"-2023.08.01-\"\n",
    "\n",
    "title_style = ParagraphStyle(\n",
    "    name='Heading',\n",
    "    fontSize=16,\n",
    "    leading=18,\n",
    "    fontName='HCR Bating Bold',\n",
    "    alignment=TA_CENTER\n",
    ")\n",
    "\n",
    "date_style = ParagraphStyle(\n",
    "    name='Heading',\n",
    "    fontSize=16,\n",
    "    leading=18,\n",
    "    fontName='HCR Bating Bold',\n",
    "    alignment=TA_CENTER\n",
    ")\n",
    "\n",
    "# Paragraph 객체 생성 및 스타일 적용\n",
    "title_paragraph = Paragraph(title_text, title_style)\n",
    "date_paragraph = Paragraph(date_text, date_style)\n",
    "\n",
    "# Element에 추가\n",
    "Elements.append(title_paragraph)\n",
    "Elements.append(Spacer(1, 36))\n",
    "Elements.append(date_paragraph)\n",
    "Elements.append(PageBreak())\n",
    "\n",
    "\n",
    "def draw_graph(ticker):\n",
    "\n",
    "    data = yf.Ticker(ticker)\n",
    "    history = data.history(period=\"1mo\")\n",
    "    \n",
    "    plt.figure(figsize=(10,8))\n",
    "    plt.subplots_adjust(top=0.95, bottom=0.25)\n",
    "    history.Open.plot()\n",
    "    plt.title(f\"{ticker} Chart\")\n",
    "    image_filename = REPORT_PATH + f\"{ticker}_chart.png\"\n",
    "    plt.close()\n",
    "    plt.savefig(image_filename)\n",
    "    \n",
    "    return image_filename\n",
    "\n",
    "\n",
    "df_summary = pd.read_csv(PATH + 'news_summary.csv')\n",
    "\n",
    "for index, row in df_summary.iloc[:10].iterrows():\n",
    "    summary_text = row['summary']\n",
    "    stock_codes = row['rld_ose_iem_tck_cd']\n",
    "    media = row['mdi_ifo']\n",
    "    art_title = row['til_ifo']\n",
    "    field = row['ctgy_cfc_ifo']\n",
    "\n",
    "    # 기사 출처 및 산업 분야\n",
    "    Elements.append(Paragraph(f\"기사 출처: {media} / 산업 분야: {field}\", style_normal))\n",
    "    Elements.append(Spacer(1, 12))\n",
    "\n",
    "    # 기사 내용 - 키워드\n",
    "    Elements.append(Paragraph(f\"{index}. {art_title}\", style_heading))\n",
    "    Elements.append(Spacer(1, 12))\n",
    "\n",
    "    # 기사 내용 - 본문\n",
    "    Elements.append(Paragraph(f\"{summary_text}\", style_normal))\n",
    "    Elements.append(Spacer(1, 12))\n",
    "\n",
    "    # 기사 관련주\n",
    "    stock_codes = stock_codes.split(',')  # 주식 코드를 쉼표로 분리\n",
    "    \n",
    "    # 중복 제거\n",
    "    unique_stock_codes = list(set(stock_codes))\n",
    "\n",
    "    for sc in unique_stock_codes:\n",
    "        Elements.append(Paragraph(f\"기사와 관련된 주식: {sc}\", style_normal))\n",
    "        Elements.append(Spacer(1, 12))\n",
    "\n",
    "        chart_image = draw_graph(sc)  # 이미지 파일 경로를 반환\n",
    "        if os.path.exists(chart_image):\n",
    "            img = Image(chart_image, width=300, height=170)\n",
    "            Elements.append(img)\n",
    "        else:\n",
    "            Elements.append(Paragraph(\"차트를 찾을 수 없습니다.\", style_normal))\n",
    "        Elements.append(Spacer(1, 12))\n",
    "        \n",
    "    Elements.append(PageBreak())\n",
    "\n",
    "# 문서를 생성하고 저장\n",
    "doc.build(Elements)"
   ]
  },
  {
   "cell_type": "code",
   "execution_count": 19,
   "id": "7fb29e4e",
   "metadata": {},
   "outputs": [
    {
     "ename": "IndexError",
     "evalue": "arrays used as indices must be of integer (or boolean) type",
     "output_type": "error",
     "traceback": [
      "\u001b[1;31m---------------------------------------------------------------------------\u001b[0m",
      "\u001b[1;31mIndexError\u001b[0m                                Traceback (most recent call last)",
      "\u001b[1;32mc:\\Users\\Yireh\\Documents\\GitHub\\2023NH_Bloomberg-1\\DailyReport.ipynb Cell 4\u001b[0m line \u001b[0;36m2\n\u001b[0;32m      <a href='vscode-notebook-cell:/c%3A/Users/Yireh/Documents/GitHub/2023NH_Bloomberg-1/DailyReport.ipynb#W2sZmlsZQ%3D%3D?line=0'>1</a>\u001b[0m unique_cmp \u001b[39m=\u001b[39m df_summary\u001b[39m.\u001b[39mrld_ose_iem_tck_cd\u001b[39m.\u001b[39munique()\n\u001b[1;32m----> <a href='vscode-notebook-cell:/c%3A/Users/Yireh/Documents/GitHub/2023NH_Bloomberg-1/DailyReport.ipynb#W2sZmlsZQ%3D%3D?line=1'>2</a>\u001b[0m np\u001b[39m.\u001b[39;49mdelete(unique_cmp, \u001b[39m'\u001b[39;49m\u001b[39m_\u001b[39;49m\u001b[39m'\u001b[39;49m, axis\u001b[39m=\u001b[39;49m\u001b[39m0\u001b[39;49m)\n",
      "File \u001b[1;32m<__array_function__ internals>:180\u001b[0m, in \u001b[0;36mdelete\u001b[1;34m(*args, **kwargs)\u001b[0m\n",
      "File \u001b[1;32mc:\\Users\\Yireh\\AppData\\Local\\Programs\\Python\\Python311\\Lib\\site-packages\\numpy\\lib\\function_base.py:5180\u001b[0m, in \u001b[0;36mdelete\u001b[1;34m(arr, obj, axis)\u001b[0m\n\u001b[0;32m   5178\u001b[0m \u001b[39melse\u001b[39;00m:\n\u001b[0;32m   5179\u001b[0m     keep \u001b[39m=\u001b[39m ones(N, dtype\u001b[39m=\u001b[39m\u001b[39mbool\u001b[39m)\n\u001b[1;32m-> 5180\u001b[0m     keep[obj,] \u001b[39m=\u001b[39m \u001b[39mFalse\u001b[39;00m\n\u001b[0;32m   5182\u001b[0m slobj[axis] \u001b[39m=\u001b[39m keep\n\u001b[0;32m   5183\u001b[0m new \u001b[39m=\u001b[39m arr[\u001b[39mtuple\u001b[39m(slobj)]\n",
      "\u001b[1;31mIndexError\u001b[0m: arrays used as indices must be of integer (or boolean) type"
     ]
    }
   ],
   "source": [
    "unique_cmp = df_summary.rld_ose_iem_tck_cd.unique()\n",
    "np.delete(unique_cmp, '_', axis=0)"
   ]
  },
  {
   "cell_type": "code",
   "execution_count": 20,
   "id": "2fe15e65",
   "metadata": {},
   "outputs": [
    {
     "data": {
      "text/plain": [
       "'_'"
      ]
     },
     "execution_count": 20,
     "metadata": {},
     "output_type": "execute_result"
    }
   ],
   "source": [
    "unique_cmp[0]"
   ]
  }
 ],
 "metadata": {
  "kernelspec": {
   "display_name": "Python 3 (ipykernel)",
   "language": "python",
   "name": "python3"
  },
  "language_info": {
   "codemirror_mode": {
    "name": "ipython",
    "version": 3
   },
   "file_extension": ".py",
   "mimetype": "text/x-python",
   "name": "python",
   "nbconvert_exporter": "python",
   "pygments_lexer": "ipython3",
   "version": "3.11.0"
  }
 },
 "nbformat": 4,
 "nbformat_minor": 5
}
