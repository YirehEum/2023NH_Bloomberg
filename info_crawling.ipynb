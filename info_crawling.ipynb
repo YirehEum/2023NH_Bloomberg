{
 "cells": [
  {
   "cell_type": "code",
   "execution_count": 1,
   "id": "68e4f0d1",
   "metadata": {},
   "outputs": [],
   "source": [
    "import pandas as pd\n",
    "import os\n",
    "import pathlib"
   ]
  },
  {
   "cell_type": "code",
   "execution_count": 2,
   "id": "202bff78",
   "metadata": {},
   "outputs": [],
   "source": [
    "USER_AGENT = 'Mozilla/5.0 (Windows NT 10.0; Win64; x64) AppleWebKit/537.36 (KHTML, like Gecko) Chrome/117.0.0.0 Safari/537.36'"
   ]
  },
  {
   "cell_type": "code",
   "execution_count": 3,
   "id": "94e9c469",
   "metadata": {},
   "outputs": [
    {
     "data": {
      "text/html": [
       "<div>\n",
       "<style scoped>\n",
       "    .dataframe tbody tr th:only-of-type {\n",
       "        vertical-align: middle;\n",
       "    }\n",
       "\n",
       "    .dataframe tbody tr th {\n",
       "        vertical-align: top;\n",
       "    }\n",
       "\n",
       "    .dataframe thead th {\n",
       "        text-align: right;\n",
       "    }\n",
       "</style>\n",
       "<table border=\"1\" class=\"dataframe\">\n",
       "  <thead>\n",
       "    <tr style=\"text-align: right;\">\n",
       "      <th></th>\n",
       "      <th>Name</th>\n",
       "      <th>Ticker</th>\n",
       "      <th>Identifier</th>\n",
       "      <th>SEDOL</th>\n",
       "      <th>Weight</th>\n",
       "      <th>Sector</th>\n",
       "      <th>Shares Held</th>\n",
       "      <th>Local Currency</th>\n",
       "    </tr>\n",
       "  </thead>\n",
       "  <tbody>\n",
       "    <tr>\n",
       "      <th>0</th>\n",
       "      <td>APPLE INC</td>\n",
       "      <td>AAPL</td>\n",
       "      <td>037833100</td>\n",
       "      <td>2046251</td>\n",
       "      <td>23.230306</td>\n",
       "      <td>-</td>\n",
       "      <td>64568089.0</td>\n",
       "      <td>USD</td>\n",
       "    </tr>\n",
       "    <tr>\n",
       "      <th>1</th>\n",
       "      <td>MICROSOFT CORP</td>\n",
       "      <td>MSFT</td>\n",
       "      <td>594918104</td>\n",
       "      <td>2588173</td>\n",
       "      <td>22.836567</td>\n",
       "      <td>-</td>\n",
       "      <td>34417521.0</td>\n",
       "      <td>USD</td>\n",
       "    </tr>\n",
       "    <tr>\n",
       "      <th>2</th>\n",
       "      <td>NVIDIA CORP</td>\n",
       "      <td>NVDA</td>\n",
       "      <td>67066G104</td>\n",
       "      <td>2379504</td>\n",
       "      <td>4.514954</td>\n",
       "      <td>-</td>\n",
       "      <td>4939309.0</td>\n",
       "      <td>USD</td>\n",
       "    </tr>\n",
       "    <tr>\n",
       "      <th>3</th>\n",
       "      <td>BROADCOM INC</td>\n",
       "      <td>AVGO</td>\n",
       "      <td>11135F101</td>\n",
       "      <td>BDZ78H9</td>\n",
       "      <td>4.297453</td>\n",
       "      <td>-</td>\n",
       "      <td>2462191.0</td>\n",
       "      <td>USD</td>\n",
       "    </tr>\n",
       "    <tr>\n",
       "      <th>4</th>\n",
       "      <td>ADOBE INC</td>\n",
       "      <td>ADBE</td>\n",
       "      <td>00724F101</td>\n",
       "      <td>2008154</td>\n",
       "      <td>2.913903</td>\n",
       "      <td>-</td>\n",
       "      <td>2719457.0</td>\n",
       "      <td>USD</td>\n",
       "    </tr>\n",
       "  </tbody>\n",
       "</table>\n",
       "</div>"
      ],
      "text/plain": [
       "             Name Ticker Identifier    SEDOL     Weight Sector  Shares Held  \\\n",
       "0       APPLE INC   AAPL  037833100  2046251  23.230306      -   64568089.0   \n",
       "1  MICROSOFT CORP   MSFT  594918104  2588173  22.836567      -   34417521.0   \n",
       "2     NVIDIA CORP   NVDA  67066G104  2379504   4.514954      -    4939309.0   \n",
       "3    BROADCOM INC   AVGO  11135F101  BDZ78H9   4.297453      -    2462191.0   \n",
       "4       ADOBE INC   ADBE  00724F101  2008154   2.913903      -    2719457.0   \n",
       "\n",
       "  Local Currency  \n",
       "0            USD  \n",
       "1            USD  \n",
       "2            USD  \n",
       "3            USD  \n",
       "4            USD  "
      ]
     },
     "execution_count": 3,
     "metadata": {},
     "output_type": "execute_result"
    }
   ],
   "source": [
    "xlk = pd.read_excel('./open/holdings-daily-us-en-xlk.xlsx',header=4)\n",
    "xlk.head()"
   ]
  },
  {
   "cell_type": "code",
   "execution_count": 4,
   "id": "098b7eab",
   "metadata": {},
   "outputs": [],
   "source": [
    "tickers = xlk['Ticker'].dropna()\n",
    "tickers = tickers.drop(tickers.loc[tickers=='-'].index)"
   ]
  },
  {
   "cell_type": "code",
   "execution_count": 5,
   "id": "bf49e4b3",
   "metadata": {},
   "outputs": [
    {
     "data": {
      "text/plain": [
       "0      AAPL\n",
       "1      MSFT\n",
       "2      NVDA\n",
       "3      AVGO\n",
       "4      ADBE\n",
       "      ...  \n",
       "62     QRVO\n",
       "63     JNPR\n",
       "64     SEDG\n",
       "65      DXC\n",
       "67    XAKZ3\n",
       "Name: Ticker, Length: 66, dtype: object"
      ]
     },
     "execution_count": 5,
     "metadata": {},
     "output_type": "execute_result"
    }
   ],
   "source": [
    "tickers"
   ]
  },
  {
   "cell_type": "code",
   "execution_count": 6,
   "id": "b22c754c",
   "metadata": {},
   "outputs": [
    {
     "name": "stderr",
     "output_type": "stream",
     "text": [
      " 80%|████████  | 53/66 [00:19<00:02,  5.37it/s]"
     ]
    },
    {
     "name": "stdout",
     "output_type": "stream",
     "text": [
      "AKAM\n",
      "NTAP\n",
      "SWKS\n",
      "TER\n",
      "EPAM\n"
     ]
    },
    {
     "name": "stderr",
     "output_type": "stream",
     "text": [
      " 88%|████████▊ | 58/66 [00:19<00:00,  9.78it/s]"
     ]
    },
    {
     "name": "stdout",
     "output_type": "stream",
     "text": [
      "WDC\n",
      "TRMB\n",
      "STX\n",
      "ZBRA\n",
      "GEN\n"
     ]
    },
    {
     "name": "stderr",
     "output_type": "stream",
     "text": [
      "100%|██████████| 66/66 [00:19<00:00,  3.35it/s]"
     ]
    },
    {
     "name": "stdout",
     "output_type": "stream",
     "text": [
      "FFIV\n",
      "QRVO\n",
      "JNPR\n",
      "SEDG\n",
      "DXC\n",
      "XAKZ3\n"
     ]
    },
    {
     "name": "stderr",
     "output_type": "stream",
     "text": [
      "\n"
     ]
    }
   ],
   "source": [
    "import requests\n",
    "from bs4 import BeautifulSoup\n",
    "from tqdm import tqdm\n",
    "\n",
    "xlk_info = {}\n",
    "headers = {'user-agent':USER_AGENT}\n",
    "\n",
    "for ticker in tqdm(tickers):\n",
    "    url = f'https://stockanalysis.com/stocks/{ticker}/company/'\n",
    "    \n",
    "    response = requests.get(url,headers=headers)\n",
    "    soup = BeautifulSoup(response.content, 'html.parser')\n",
    "    \n",
    "    try:\n",
    "        text = soup.select(\"main > div:nth-child(3) > div:nth-child(1)\")[0].text\n",
    "        xlk_info[ticker] = text\n",
    "    except:\n",
    "        print(ticker)"
   ]
  },
  {
   "cell_type": "code",
   "execution_count": 7,
   "id": "b5a27c18",
   "metadata": {
    "scrolled": true
   },
   "outputs": [
    {
     "name": "stderr",
     "output_type": "stream",
     "text": [
      "  9%|▉         | 6/66 [00:00<00:02, 24.48it/s]"
     ]
    },
    {
     "name": "stdout",
     "output_type": "stream",
     "text": [
      "AAPL\n",
      "MSFT\n",
      "NVDA\n",
      "AVGO\n",
      "ADBE\n",
      "CSCO\n"
     ]
    },
    {
     "name": "stderr",
     "output_type": "stream",
     "text": [
      " 14%|█▎        | 9/66 [00:00<00:02, 23.61it/s]"
     ]
    },
    {
     "name": "stdout",
     "output_type": "stream",
     "text": [
      "CRM\n",
      "ACN\n",
      "ORCL\n",
      "AMD\n",
      "INTC\n"
     ]
    },
    {
     "name": "stderr",
     "output_type": "stream",
     "text": [
      " 23%|██▎       | 15/66 [00:00<00:02, 24.91it/s]"
     ]
    },
    {
     "name": "stdout",
     "output_type": "stream",
     "text": [
      "TXN\n",
      "INTU\n",
      "IBM\n",
      "QCOM\n",
      "AMAT\n",
      "NOW\n"
     ]
    },
    {
     "name": "stderr",
     "output_type": "stream",
     "text": [
      " 32%|███▏      | 21/66 [00:00<00:01, 25.79it/s]"
     ]
    },
    {
     "name": "stdout",
     "output_type": "stream",
     "text": [
      "ADI\n",
      "LRCX\n",
      "MU\n",
      "PANW\n",
      "SNPS\n",
      "CDNS\n"
     ]
    },
    {
     "name": "stderr",
     "output_type": "stream",
     "text": [
      " 41%|████      | 27/66 [00:01<00:01, 25.93it/s]"
     ]
    },
    {
     "name": "stdout",
     "output_type": "stream",
     "text": [
      "KLAC\n",
      "ROP\n",
      "NXPI\n",
      "APH\n",
      "ANET\n"
     ]
    },
    {
     "name": "stderr",
     "output_type": "stream",
     "text": [
      " 50%|█████     | 33/66 [00:01<00:01, 24.41it/s]"
     ]
    },
    {
     "name": "stdout",
     "output_type": "stream",
     "text": [
      "MSI\n",
      "ADSK\n",
      "MCHP\n",
      "ON\n",
      "TEL\n",
      "FTNT\n"
     ]
    },
    {
     "name": "stderr",
     "output_type": "stream",
     "text": [
      " 59%|█████▉    | 39/66 [00:01<00:01, 25.52it/s]"
     ]
    },
    {
     "name": "stdout",
     "output_type": "stream",
     "text": [
      "CTSH\n",
      "IT\n",
      "CDW\n",
      "ANSS\n",
      "KEYS\n",
      "GLW\n"
     ]
    },
    {
     "name": "stderr",
     "output_type": "stream",
     "text": [
      " 68%|██████▊   | 45/66 [00:01<00:00, 25.78it/s]"
     ]
    },
    {
     "name": "stdout",
     "output_type": "stream",
     "text": [
      "HPE\n",
      "HPQ\n",
      "MPWR\n",
      "FICO\n",
      "TDY\n",
      "VRSN\n"
     ]
    },
    {
     "name": "stderr",
     "output_type": "stream",
     "text": [
      " 77%|███████▋  | 51/66 [00:02<00:00, 26.78it/s]"
     ]
    },
    {
     "name": "stdout",
     "output_type": "stream",
     "text": [
      "FSLR\n",
      "PTC\n",
      "ENPH\n",
      "TYL\n",
      "AKAM\n",
      "NTAP\n"
     ]
    },
    {
     "name": "stderr",
     "output_type": "stream",
     "text": [
      " 86%|████████▋ | 57/66 [00:02<00:00, 25.38it/s]"
     ]
    },
    {
     "name": "stdout",
     "output_type": "stream",
     "text": [
      "SWKS\n",
      "TER\n",
      "EPAM\n",
      "WDC\n",
      "TRMB\n"
     ]
    },
    {
     "name": "stderr",
     "output_type": "stream",
     "text": [
      " 91%|█████████ | 60/66 [00:02<00:00, 24.93it/s]"
     ]
    },
    {
     "name": "stdout",
     "output_type": "stream",
     "text": [
      "STX\n",
      "ZBRA\n",
      "GEN\n",
      "FFIV\n",
      "QRVO\n"
     ]
    },
    {
     "name": "stderr",
     "output_type": "stream",
     "text": [
      "100%|██████████| 66/66 [00:02<00:00, 25.25it/s]"
     ]
    },
    {
     "name": "stdout",
     "output_type": "stream",
     "text": [
      "JNPR\n",
      "SEDG\n",
      "DXC\n",
      "XAKZ3\n"
     ]
    },
    {
     "name": "stderr",
     "output_type": "stream",
     "text": [
      "\n"
     ]
    }
   ],
   "source": [
    "xlk_keywords = {}\n",
    "headers = {'user-agent':'Mozilla/5.0 (Macintosh; Intel Mac OS X 10_15_7) AppleWebKit/537.36 (KHTML, like Gecko) Chrome/116.0.0.0 Safari/537.36'}\n",
    "\n",
    "for ticker in tqdm(tickers):\n",
    "    url = f'https://stockanalysis.com/stocks/{ticker}/company/'\n",
    "    \n",
    "    response = requests.get(url,headers=headers)\n",
    "    soup = BeautifulSoup(response.content, 'html.parser')\n",
    "    \n",
    "    try:\n",
    "        num = 0\n",
    "        for i in range(1,7):\n",
    "            industry = soup.select(f'main > div:nth-child(3) > div.lg\\:float-right.lg\\:w-\\[336px\\] > div.mt-7.rounded.border.border-gray-200.bg-gray-50.px-3.pt-3.pb-2.dark\\:border-dark-700.dark\\:bg-dark-775.xs\\:px-4.xs\\:pt-4.lg\\:mt-1 > table > tbody > tr:nth-child({i}) > td.py-1\\.5.px-1.font-semibold.lg\\:py-2')[0].text\n",
    "            if industry=='Industry':\n",
    "                num = i\n",
    "                break\n",
    "        if num==0:\n",
    "            print(ticker)\n",
    "            continue\n",
    "        else:\n",
    "            text = soup.select(f\"main > div:nth-child(3) > div.lg\\:float-right.lg\\:w-\\[336px\\] > div.mt-7.rounded.border.border-gray-200.bg-gray-50.px-3.pt-3.pb-2.dark\\:border-dark-700.dark\\:bg-dark-775.xs\\:px-4.xs\\:pt-4.lg\\:mt-1 > table > tbody > tr:nth-child({num}) > td.py-1\\.5.px-1.text-right.lg\\:py-2 > a\")[0].text\n",
    "        \n",
    "        xlk_keywords[ticker] = text\n",
    "    except:\n",
    "        print(ticker)"
   ]
  },
  {
   "cell_type": "code",
   "execution_count": 8,
   "id": "8e31032f",
   "metadata": {},
   "outputs": [
    {
     "data": {
      "text/plain": [
       "{}"
      ]
     },
     "execution_count": 8,
     "metadata": {},
     "output_type": "execute_result"
    }
   ],
   "source": [
    "xlk_keywords"
   ]
  },
  {
   "cell_type": "code",
   "execution_count": 9,
   "id": "28afde6f",
   "metadata": {},
   "outputs": [
    {
     "data": {
      "text/plain": [
       "'XAKZ3'"
      ]
     },
     "execution_count": 9,
     "metadata": {},
     "output_type": "execute_result"
    }
   ],
   "source": [
    "ticker"
   ]
  },
  {
   "cell_type": "code",
   "execution_count": 10,
   "id": "295182c4",
   "metadata": {},
   "outputs": [
    {
     "data": {
      "text/plain": [
       "{'AAPL': 'Company Description Apple Inc. designs, manufactures, and markets smartphones, personal computers, tablets, wearables, and accessories worldwide.The company offers iPhone, a line of smartphones; Mac, a line of personal computers; iPad, a line of multi-purpose tablets; and wearables, home, and accessories comprising AirPods, Apple TV, Apple Watch, Beats products, and HomePod.It also provides AppleCare support and cloud services; and operates various platforms, including the App Store that allow customers to discover and download applications and digital content, such as books, music, video, games, and podcasts.In addition, the company offers various services, such as Apple Arcade, a game subscription service; Apple Fitness+, a personalized fitness service; Apple Music, which offers users a curated listening experience with on-demand radio stations; Apple News+, a subscription news and magazine service; Apple TV+, which offers exclusive original content; Apple Card, a co-branded credit card; and Apple Pay, a cashless payment service, as well as licenses its intellectual property.The company serves consumers, and small and mid-sized businesses; and the education, enterprise, and government markets.It distributes third-party applications for its products through the App Store. The company also sells its products through its retail and online stores, and direct sales force; and third-party cellular network carriers, wholesalers, retailers, and resellers.Apple Inc. was incorporated in 1977 and is headquartered in Cupertino, California.',\n",
       " 'MSFT': 'Company Description Microsoft Corporation develops and supports software, services, devices and solutions worldwide.The Productivity and Business Processes segment offers office, exchange, SharePoint, Microsoft Teams, office 365 Security and Compliance, Microsoft viva, and Microsoft 365 copilot; and office consumer services, such as Microsoft 365 consumer subscriptions, Office licensed on-premises, and other office services.This segment also provides LinkedIn; and dynamics business solutions, including Dynamics 365, a set of intelligent, cloud-based applications across ERP, CRM, power apps, and power automate; and on-premises ERP and CRM applications.The Intelligent Cloud segment provides server products and cloud services, such as azure and other cloud services; SQL and windows server, visual studio, system center, and related client access licenses, as well as nuance and GitHub; and enterprise services including enterprise support services, industry solutions, and nuance professional services.The More Personal Computing segment offers Windows, including windows OEM licensing and other non-volume licensing of the Windows operating system; Windows commercial comprising volume licensing of the Windows operating system, windows cloud services, and other Windows commercial offerings; patent licensing; and windows Internet of Things; and devices, such as surface, HoloLens, and PC accessories.Additionally, this segment provides gaming, which includes Xbox hardware and content, and first- and third-party content; Xbox game pass and other subscriptions, cloud gaming, advertising, third-party disc royalties, and other cloud services; and search and news advertising, which includes Bing, Microsoft News and Edge, and third-party affiliates.The company sells its products through OEMs, distributors, and resellers; and directly through digital marketplaces, online, and retail stores.The company was founded in 1975 and is headquartered in Redmond, Washington.',\n",
       " 'NVDA': \"Company Description NVIDIA Corporation provides graphics, and compute and networking solutions in the United States, Taiwan, China, and internationally.The company's Graphics segment offers GeForce GPUs for gaming and PCs, the GeForce NOW game streaming service and related infrastructure, and solutions for gaming platforms; Quadro/NVIDIA RTX GPUs for enterprise workstation graphics; vGPU software for cloud-based visual and virtual computing; automotive platforms for infotainment systems; and Omniverse software for building 3D designs and virtual worlds.Its Compute & Networking segment provides Data Center platforms and systems for AI, HPC, and accelerated computing; Mellanox networking and interconnect solutions; automotive AI Cockpit, autonomous driving development agreements, and autonomous vehicle solutions; cryptocurrency mining processors; Jetson for robotics and other embedded platforms; and NVIDIA AI Enterprise and other software.The company's products are used in gaming, professional visualization, datacenter, and automotive markets.NVIDIA Corporation sells its products to original equipment manufacturers, original device manufacturers, system builders, add-in board manufacturers, retailers/distributors, independent software vendors, Internet and cloud service providers, automotive manufacturers and tier-1 automotive suppliers, mapping companies, start-ups, and other ecosystem participants.It has a strategic collaboration with Kroger Co. NVIDIA Corporation was incorporated in 1993 and is headquartered in Santa Clara, California.\",\n",
       " 'AVGO': 'Company Description Broadcom Inc. designs, develops, and supplies various semiconductor devices with a focus on complex digital and mixed signal complementary metal oxide semiconductor based devices and analog III-V based products worldwide.The company operates in two segments, Semiconductor Solutions and Infrastructure Software. It provides set-top box system-on-chips (SoCs); cable, digital subscriber line, and passive optical networking central office/consumer premise equipment SoCs; wireless local area network access point SoCs; Ethernet switching and routing custom silicon solutions; embedded processors and controllers; serializer/deserializer application specific integrated circuits; optical and copper, and physical layer devices; and fiber optic components and RF semiconductor devices.The company also offers RF front end modules and filter; Wi-Fi, Bluetooth, and global positioning system/global navigation satellite system SoCs; custom touch controllers; custom touch controllers; inductive charging; attached small computer system interface, and redundant array of independent disks controllers and adapters; peripheral component interconnect express; fiber channel host bus adapters; read channel based SoCs; custom flash controllers; preamplifiers; optocouplers, industrial fiber optics, and motion control encoders and subsystems; light emitting diode, ethernet PHYs, switch ICs, and camera microcontrollers.Its products are used in various applications, including enterprise and data center networking, home connectivity, set-top boxes, broadband access, telecommunication equipment, smartphones and base stations, data center servers and storage systems, factory automation, power generation and alternative energy systems, and electronic displays.Broadcom Inc. was incorporated in 2018 and is headquartered in San Jose, California.',\n",
       " 'ADBE': 'Company Description Adobe Inc., together with its subsidiaries, operates as a diversified software company worldwide.It operates through three segments: Digital Media, Digital Experience, and Publishing and Advertising.The Digital Media segment offers products, services, and solutions that enable individuals, teams, and enterprises to create, publish, and promote content; and Document Cloud, a unified cloud-based document services platform.Its flagship product is Creative Cloud, a subscription service that allows members to access its creative products.This segment serves content creators, students, workers, marketers, educators, enthusiasts, communicators, and consumers.The Digital Experience segment provides an integrated platform and set of applications and services that enable brands and businesses to create, manage, execute, measure, monetize, and optimize customer experiences from analytics to commerce.This segment serves marketers, advertisers, agencies, publishers, merchandisers, merchants, web analysts, data scientists, developers, and executives across the C-suite.The Publishing and Advertising segment offers products and services, such as e-learning solutions, technical document publishing, web conferencing, document and forms platform, web application development, and high-end printing, as well as Advertising Cloud offerings.The company offers its products and services directly to enterprise customers through its sales force and local field offices, as well as to end users through app stores and through its website at adobe.com.It also distributes products and services through a network of distributors, value-added resellers, systems integrators, software vendors and developers, retailers, and original equipment manufacturers.The company was formerly known as Adobe Systems Incorporated and changed its name to Adobe Inc. in October 2018.Adobe Inc. was founded in 1982 and is headquartered in San Jose, California.',\n",
       " 'CSCO': 'Company Description Cisco Systems, Inc. designs, manufactures, and sells Internet Protocol based networking and other products related to the communications and information technology industry in the Americas, Europe, the Middle East, Africa, the Asia Pacific, Japan, and China.The company also offers switching portfolio encompasses campus switching as well as data center switching; enterprise routing portfolio interconnects public and private wireline and mobile networks, delivering highly secure, and reliable connectivity to campus, data center and branch networks; wireless products include wireless access points and controllers; and compute portfolio including the cisco unified computing system, hyperflex, and software management capabilities, which combine computing, networking, and storage infrastructure management and virtualization.In addition, it provides Internet for the future product consists of routed optical networking, 5G, silicon, and optics solutions; collaboration products, such as meetings, collaboration devices, calling, contact center, and communication platform as a service; end-to-end security product consists of network security, cloud security, security endpoints, unified threat management, and zero trust; and optimized application experiences products including full stack observability and network assurance.Further, the company offers a range of service and support options for its customers, including technical support and advanced services and advisory services.It serves businesses of various sizes, public institutions, governments, and service providers. The company sells its products and services directly, as well as through systems integrators, service providers, other resellers, and distributors.Cisco Systems, Inc. has strategic alliances with other companies. Cisco Systems, Inc. was incorporated in 1984 and is headquartered in San Jose, California.',\n",
       " 'CRM': \"Company Description Salesforce, Inc. provides Customer Relationship Management (CRM) technology that brings companies and customers together worldwide.The company's service includes sales to store data, monitor leads and progress, forecast opportunities, gain insights through analytics and relationship intelligence, and deliver quotes, contracts, and invoices; and service that enables companies to deliver trusted and highly personalized customer service and support at scale.In addition, its platform offering comprise a flexible platform that enables companies of various sizes, locations, and industries to build business apps with drag-and-drop tools; online learning platform that allows anyone to learn in-demand Salesforce skills; and Slack, a system of engagement.The company's marketing services enables companies to plan, personalize, and optimize customer marketing journey and real time personalization and optimization; and commerce services, which empowers shopping experience across various points of commerce, such as mobile, web, social, and stores and provides click-to-code tools that offers customers to build and deploy solutions.Further, its analytics offering includes Tableau, an end-to-end analytics solution for range of enterprise use cases and intelligent analytics with advanced AI models, spot trends, predict outcomes, timely recommendations, and take action from any device; and integration service including MuleSoft, an easy to connect data from any system to deliver connected experiences.Additionally, the company provides genie customer data cloud, a hyperscale real-time data platform that powers the customer 360 platform; vertical services to meet the needs of customers in industries, such as financial services, healthcare and life sciences, manufacturing and others; and offers salesforce easy for small and medium-sized businesses.Salesforce, Inc. was incorporated in 1999 and is headquartered in San Francisco, California.\",\n",
       " 'ACN': 'Company Description Accenture plc, a professional services company, provides strategy and consulting, interactive, industry X, song, and technology and operation services worldwide.The company offers application services, including agile transformation, DevOps, application modernization, enterprise architecture, software and quality engineering, data management, intelligent automation comprises robotic process automation, natural language processing, and virtual agents, and application management services, as well as software engineering services; strategy and consulting services; data and analytics strategy, data discovery and augmentation, data management and beyond, data democratization, and industrialized solutions comprises turnkey analytics and artificial intelligence (AI) solutions; metaverse; and sustainability services.It also provides change management, HR transformation and delivery, organization strategy and design, talent strategy and development, and leadership and culture services; digital commerce; infrastructure services, including cloud infrastructure managed, cloud and data center, network, digital workplace, database platforms, service management, and cloud and infrastructure security services; data-enabled operating models; technology consulting and AI services; and technology consulting services.In addition, the company offers engineering and R&D digitization, smart connected products, product as-a-service enablement, capital projects, intelligent asset management, digital industrial workforce, and autonomous robotic systems; business process outsourcing; and services related to technology innovation.Further, it provides cloud, ecosystem, marketing, security, supply chain management, zero-based transformation, customer experience, finance consulting, mergers and acquisitions, and sustainability services.The company has a collaboration with Amazon Web Services to develop cross-industry solutions. The company was founded in 1951 and is based in Dublin, Ireland.',\n",
       " 'ORCL': \"Company Description Oracle Corporation offers products and services that address enterprise information technology environments worldwide.Its Oracle cloud software as a service offering include various cloud software applications, including Oracle Fusion cloud enterprise resource planning (ERP), Oracle Fusion cloud enterprise performance management, Oracle Fusion cloud supply chain and manufacturing management, Oracle Fusion cloud human capital management, Oracle Cerner healthcare, Oracle Advertising, and NetSuite applications suite, as well as Oracle Fusion Sales, Service, and Marketing.The company also offers cloud-based industry solutions for various industries; Oracle application licenses; and Oracle license support services.In addition, it provides cloud and license business' infrastructure technologies, such as the Oracle Database and MySQL Database; Java, a software development language; and middleware, including development tools and others.The company's cloud and license business' infrastructure technologies also comprise cloud-based compute, storage, and networking capabilities; and Oracle autonomous database, MySQL HeatWave, Internet-of-Things, digital assistant, and blockchain.Further, it provides hardware products and other hardware-related software offerings, including Oracle engineered systems, enterprise servers, storage solutions, industry-specific hardware, virtualization software, operating systems, management software, and related hardware services; and consulting and customer services.The company markets and sells its cloud, license, hardware, support, and services offerings directly to businesses in various industries, government agencies, and educational institutions, as well as through indirect channels.The company has a collaboration with Amdocs Limited to empower customers on their journey towards cloud and digital adoption.Oracle Corporation was founded in 1977 and is headquartered in Austin, Texas.\",\n",
       " 'AMD': 'Company Description Advanced Micro Devices, Inc. operates as a semiconductor company worldwide.It operates in four segments: Data Center, Client, Gaming, and Embedded segments. The company offers x86 microprocessors and graphics processing units (GPUs) as an accelerated processing unit, chipsets, data center, and professional GPUs; and embedded processors, and semi-custom system-on-chip (SoC) products, microprocessor and SoC development services and technology, data processing unites, field programmable gate arrays (FPGA), and adaptive SoC products.It also provides processors under the AMD Ryzen, AMD Ryzen PRO, Ryzen Threadripper, Ryzen Threadripper PRO, AMD Athlon, AMD Athlon PRO, and AMD PRO A-Series brand names; graphics under the AMD Radeon graphics and AMD Embedded Radeon graphics; and professional graphics under the AMD Radeon Pro graphics brand name.In addition, the company offers data center graphics under the Radeon Instinct and Radeon PRO V-series brands, as well as servers under the AMD Instinct accelerators brand; server microprocessors under the AMD EPYC brands; embedded processor solutions under the AMD Athlon, AMD Geode, AMD Ryzen, AMD EPYC, AMD R-Series, and G-Series brands; FPGA products under the Virtex-6, Virtex-7, Virtex UltraScale+, Kintex-7, Kintex UltraScale, Kintex UltraScale+, Artix-7, Artix UltraScale+, Spartan-6, and Spartan-7 brands; adaptive SOCs under the Zynq-7000, Zynq UltraScale+ MPSoC, Zynq UltraScale+ RFSoCs, Versal HBM, Versal Premium, Versal Prime, Versal AI Core, Versal AI Edge, Vitis, and Vivado brands; and compute and network acceleration board products under the Alveo brand.It serves original equipment and design manufacturers, public cloud service providers, system integrators, independent distributors, online and brick and mortar retailers, and add-in-board manufacturers through its direct sales force, independent distributors, and sales representatives.The company was incorporated in 1969 and is headquartered in Santa Clara, California.',\n",
       " 'INTC': 'Company Description Intel Corporation designs, develops, manufactures, markets, and sells computing and related products worldwide.It operates through Client Computing Group, Data Center and AI, Network and Edge, Mobileye, Accelerated Computing Systems and Graphics, Intel Foundry Services, and Other segments.The company offers platform products, such as central processing units and chipsets, and system-on-chip and multichip packages; and accelerators, boards and systems, connectivity products, and memory and storage products.It also provides high-performance computer solutions for targeted verticals and embedded applications for retail, industrial, and healthcare markets; and solutions for assisted and autonomous driving comprising compute platforms, computer vision and machine learning-based sensing, mapping and localization, driving policy, and active sensors.In addition, the company offers workload-optimized platforms and related products for cloud service providers, enterprise and government, and communications service providers.It serves original equipment manufacturers, original design manufacturers, cloud service providers, and other equipment manufacturers.The company has a strategic partnership with Synopsys, Inc. to develop EDA and IP solutions and a collaboration with Red Hat to.deliver open source industrial automation to the manufacturing shop floor. The company The company was incorporated in 1968 and is headquartered in Santa Clara, California.',\n",
       " 'TXN': 'Company Description Texas Instruments Incorporated designs, manufactures, and sells semiconductors to electronics designers and manufacturers in the United States and internationally.It operates in two segments, Analog and Embedded Processing. The Analog segment offers power products to manage power requirements across various voltage levels, including battery-management solutions, DC/DC switching regulators, AC/DC and isolated controllers and converters, power switches, linear regulators, voltage references, and lighting products.This segment also provides signal chain products that sense, condition, and measure signals to allow information to be transferred or converted for further processing and control, including amplifiers, data converters, interface products, motor drives, clocks, and logic and sensing products.The Embedded Processing segment offers microcontrollers that are used in electronic equipment; digital signal processors for mathematical computations; and applications processors for specific computing activity.This segment offers products for use in various markets, such as industrial, automotive, personal electronics, communications equipment, enterprise systems, and calculators and other.The company also provides DLP products primarily for use in project high-definition images; calculators; and application-specific integrated circuits.It markets and sells its semiconductor products through direct sales and distributors, as well as through its website.Texas Instruments Incorporated was founded in 1930 and is headquartered in Dallas, Texas.',\n",
       " 'INTU': 'Company Description Intuit Inc. provides financial management and compliance products and services for consumers, small businesses, self-employed, and accounting professionals in the United States, Canada, and internationally.The company operates in four segments: Small Business & Self-Employed, Consumer, Credit Karma, and ProTax.The Small Business & Self-Employed segment provides QuickBooks services, that includes financial and business management online services and desktop software, payroll solutions, time tracking, merchant payment processing solutions, and financing for small businesses; and Mailchimp services, such as e-commerce, marketing automation, and customer relationship management.This segment also offers QuickBooks online services and desktop software solutions comprising QuickBooks Online Advanced, a cloud-based solution; QuickBooks Enterprise, a hosted solution; and QuickBooks Self-Employed solution; payment-processing solutions, including credit and debit cards, Apple Pay, and ACH payment services; and financial supplies and financing for small businesses, as well as electronic filing of federal and state income tax returns.The Consumer segment provides TurboTax income tax preparation products and services. The Credit Karma segment offers consumers with a personal finance platform that provides personalized recommendations of home, auto, and personal loans, as well as credit cards and insurance products.The ProTax segment provides Lacerte, ProSeries, and ProFile desktop tax-preparation software products; and ProConnect Tax Online tax products, electronic tax filing service, and bank products and related services.It sells products and services through various sales and distribution channels, including multi-channel shop-and-buy experiences, websites and call centers, mobile application stores, and retail and other channels.The company was founded in 1983 and is headquartered in Mountain View, California.',\n",
       " 'IBM': \"Company Description International Business Machines Corporation, together with its subsidiaries, provides integrated solutions and services worldwide.The company operates through four business segments: Software, Consulting, Infrastructure, and Financing.The Software segment offers hybrid cloud platform and software solutions; software for business automation, AIOps and management, integration, and application servers; data and artificial intelligence solutions; and security software and services for threat, data, and identity.This segment also provides transaction processing software that supports clients' mission-critical and on-premise workloads in banking, airlines, and retail industries.The Consulting segment offers business transformation services, including strategy, business process design and operations, data and analytics, and system integration services; technology consulting services; and application and cloud platform services.The Infrastructure segment provides on-premises and cloud-based server and storage solutions for its clients' mission-critical and regulated workloads; and support services and solutions for hybrid cloud infrastructure, as well as remanufacturing and remarketing services for used equipment.The Financing segment offers lease, installment payment, loan financing, and short-term working capital financing services.The company has collaboration agreement with Siemens Digital Industri Software to develop a combined software solution.The company was formerly known as Computing-Tabulating-Recording Co. International Business Machines Corporation was incorporated in 1911 and is headquartered in Armonk, New York.\",\n",
       " 'QCOM': 'Company Description QUALCOMM Incorporated engages in the development and commercialization of foundational technologies for the wireless industry worldwide.It operates through three segments: Qualcomm CDMA Technologies (QCT); Qualcomm Technology Licensing (QTL); and Qualcomm Strategic Initiatives (QSI).The QCT segment develops and supplies integrated circuits and system software based on 3G/4G/5G and other technologies for use in wireless voice and data communications, networking, application processing, multimedia, and global positioning system products.The QTL segment grants licenses or provides rights to use portions of its intellectual property portfolio, which include various patent rights useful in the manufacture and sale of wireless products comprising products implementing CDMA2000, WCDMA, LTE and/or OFDMA-based 5G standards and their derivatives.The QSI segment invests in early-stage companies in various industries, including 5G, artificial intelligence, automotive, consumer, enterprise, cloud, IoT, and extended reality, and investments, including non-marketable equity securities and, to a lesser extent, marketable equity securities, and convertible debt instruments.It also provides development, and other services and related products to the United States government agencies and their contractors.The company was incorporated in 1985 and is headquartered in San Diego, California.',\n",
       " 'AMAT': 'Company Description Applied Materials, Inc. engages in the provision of manufacturing equipment, services, and software to the semiconductor, display, and related industries.It operates through three segments: Semiconductor Systems, Applied Global Services, and Display and Adjacent Markets.The Semiconductor Systems segment develops, manufactures, and sells various manufacturing equipment that is used to fabricate semiconductor chips or integrated circuits.This segment also offers various technologies, including epitaxy, ion implantation, oxidation/nitridation, rapid thermal processing, physical vapor deposition, chemical vapor deposition, chemical mechanical planarization, electrochemical deposition, atomic layer deposition, etching, and selective deposition and removal, as well as metrology and inspection tools.The Applied Global Services segment provides integrated solutions to optimize equipment and fab performance and productivity comprising spares, upgrades, services, remanufactured earlier generation equipment, and factory automation software for semiconductor, display, and other products.The Display and Adjacent Markets segment offers products for manufacturing liquid crystal displays; organic light-emitting diodes; and other display technologies for TVs, monitors, laptops, personal computers, electronic tablets, smart phones, and other consumer-oriented devices.The company operates in the United States, China, Korea, Taiwan, Japan, Southeast Asia, and Europe. Applied Materials, Inc. was incorporated in 1967 and is headquartered in Santa Clara, California.',\n",
       " 'NOW': \"Company Description ServiceNow, Inc. provides enterprise cloud computing solutions that defines, structures, consolidates, manages, and automates services for enterprises worldwide.The company operates the Now platform for workflow automation, artificial intelligence, machine learning, robotic process automation, process mining, performance analytics, electronic service catalogs and portals, configuration management systems, data benchmarking, encryption, and collaboration and development tools.It also provides information technology (IT) service management applications; IT service management product suite for enterprise's employees, customers, and partners; strategic portfolio management product suite; IT operations management product that connects a customer's physical and cloud-based IT infrastructure; IT asset management; and security operations that connects with internal and third party.In addition, the company offers integrated risk management product to manage risk and resilience; environmental, social and governance management product; human resources, legal, and workplace service delivery products; safe workplace suite products; customer service management product; and field service management applications.Further, it provides App Engine product; Automation Engine enables application to extend workflows; platform privacy and security product; procurement operations management suite; and professional and customer support services.The company serves government, financial services, healthcare, telecommunications, manufacturing, IT services, technology, oil and gas, education, and consumer products through direct sales team and resale partners.It has a strategic partnership with Celonis to help customers identify and prioritize processes that are suitable for automation.The company was formerly known as Service-now.com and changed its name to ServiceNow, Inc. in May 2012.The company was founded in 2004 and is headquartered in Santa Clara, California.\",\n",
       " 'ADI': 'Company Description Analog Devices, Inc. designs, manufactures, tests, and markets integrated circuits (ICs), software, and subsystems that leverage analog, mixed-signal, and digital signal processing technologies.The company provides data converter products, which translate real-world analog signals into digital data, as well as translates digital data into analog signals; power management and reference products for power conversion, driver monitoring, sequencing, and energy management applications in the automotive, communications, industrial, and high-end consumer markets; and power ICs that include performance, integration, and software design simulation tools for accurate power supply designs.It also offers high-performance amplifiers to condition analog signals; and radio frequency and microwave ICs to support cellular infrastructure; and micro-electro-mechanical systems technology solutions, including accelerometers used to sense acceleration, gyroscopes for sense rotation, inertial measurement units to sense multiple degrees of freedom, and broadband switches for radio and instrument systems, as well as isolators.In addition, the company provides digital signal processing and system products for high-speed numeric calculations.It serves clients in the industrial, automotive, consumer, instrumentation, aerospace, and communications markets through a direct sales force, third-party distributors, and independent sales representatives in the United States, rest of North and South America, Europe, Japan, China, and rest of Asia, as well as through its Website.Analog Devices, Inc. was incorporated in 1965 and is headquartered in Wilmington, Massachusetts.',\n",
       " 'LRCX': 'Company Description Lam Research Corporation designs, manufactures, markets, refurbishes, and services semiconductor processing equipment used in the fabrication of integrated circuits.The company offers ALTUS systems to deposit conformal films for tungsten metallization applications; SABRE electrochemical deposition products for copper interconnect transition that offers copper damascene manufacturing; SOLA ultraviolet thermal processing products for film treatments; and VECTOR plasma-enhanced CVD ALD products.It also provides SPEED gapfill high-density plasma chemical vapor deposition products; and Striker single-wafer atomic layer deposition products for dielectric film solutions.In addition, the company offers Flex for dielectric etch applications; Kiyo for conductor etch applications; Syndion for through-silicon via etch applications; and Versys metal products for metal etch processes.Further, it provides Coronus bevel clean products to enhance die yield; Da Vinci, DV-Prime, EOS, and SP series products to address various wafer cleaning applications; and Metryx mass metrology systems for high precision in-line mass measurement in semiconductor wafer manufacturing.The company sells its products and services to semiconductors industry in the United States, China, Europe, Japan, Korea, Southeast Asia, Taiwan, and internationally.The company was incorporated in 1980 and is headquartered in Fremont, California.',\n",
       " 'MU': 'Company Description Micron Technology, Inc. designs, develops, manufactures, and sells memory and storage products worldwide.The company operates through four segments: Compute and Networking Business Unit, Mobile Business Unit, Embedded Business Unit, and Storage Business Unit.It provides memory and storage technologies comprising dynamic random access memory semiconductor devices with low latency that provide high-speed data retrieval; non-volatile and re-writeable semiconductor storage devices; and non-volatile re-writable semiconductor memory devices that provide fast read speeds under the Micron and Crucial brands, as well as through private labels.The company offers memory products for the cloud server, enterprise, client, graphics, networking, industrial, and automotive markets, as well as for smartphone and other mobile-device markets; SSDs and component-level solutions for the enterprise and cloud, client, and consumer storage markets; discrete storage products in component and wafers; and memory and storage products for the automotive, industrial, and consumer markets.It markets its products through its direct sales force, independent sales representatives, distributors, and retailers; and web-based customer direct sales channel, as well as through channel and distribution partners.Micron Technology, Inc. was founded in 1978 and is headquartered in Boise, Idaho.',\n",
       " 'PANW': 'Company Description Palo Alto Networks, Inc. provides cybersecurity solutions worldwide.The company offers firewall appliances and software; and Panorama, a security management solution for the global control of network security platform as a virtual or a physical appliance.It also provides subscription services covering the areas of threat prevention, malware and persistent threat, URL filtering, laptop and mobile device protection, DNS security, Internet of Things security, SaaS security API, and SaaS security inline, as well as threat intelligence, and data loss prevention.In addition, the company offers cloud security, secure access, security operations, and threat intelligence and security consulting; professional services, including architecture design and planning, implementation, configuration, and firewall migration; education services, such as certifications, as well as online and in-classroom training; and support services.It sells its products and services through its channel partners, as well as directly to medium to large enterprises, service providers, and government entities operating in various industries, including education, energy, financial services, government entities, healthcare, Internet and media, manufacturing, public sector, and telecommunications.Palo Alto Networks, Inc. was incorporated in 2005 and is headquartered in Santa Clara, California.',\n",
       " 'SNPS': 'Company Description Synopsys, Inc. provides electronic design automation software products used to design and test integrated circuits.The company offers Digital and Custom IC Design solution that provides digital design implementation solutions; Verification solution that offers virtual prototyping, static and formal verification, simulation, emulation, field programmable gate array (FPGA)-based prototyping, and debug solutions; and FPGA design products that are programmed to perform specific functions.It also provides intellectual property (IP) solutions for USB, PCI Express, DDR, Ethernet, MIPI, HDMI, and Bluetooth low energy applications; logic libraries and embedded memories; processor cores, software, and application-specific instruction-set processor tools for embedded applications; security IP solutions; IP solutions for automotive market; and system-on-chip (SoC) infrastructure IP, datapath and building block IP, and verification IP products, as well as mathematical and floating-point components, and Arm AMBA interconnect fabric and peripherals.In addition, the company offers HAPS FPGA-based prototyping systems; virtual prototyping solutions; and Platform Architect solutions for SoC architecture analysis and optimization, as well as a series of tools used in the design of optical systems and photonic devices.Further, it provides security testing, managed services, programs and professional services, and training that enable its customers to detect and remediate security vulnerabilities, and defects in the software development lifecycle, as well as manufacturing solutions.The company serves electronics, financial services, automotive, medicine, energy, and industrial areas.It has a strategic partnership with Intel Corporation to develop EDA and IP solutions. Synopsys, Inc. was incorporated in 1986 and is headquartered in Mountain View, California.',\n",
       " 'CDNS': \"Company Description Cadence Design Systems, Inc. provides software, hardware, services, and reusable integrated circuit (IC) design blocks worldwide.The company offers functional verification services, including emulation and prototyping hardware. Its functional verification offering consists of JasperGold, a formal verification platform; Xcelium, a parallel logic simulation platform; Palladium, an enterprise emulation platform; and Protium, a prototyping platform for chip verification.The company also provides digital IC design and sign off products, including Genus logic synthesis and Joules RTL power solutions, as well as Modus software solution to reduce systems-on-chip design-for-test time; physical implementation tools, such as place and route, optimization, and multiple patterning preparation; and Innovus implementation system, a physical implementation system.In addition, it offers custom IC design and simulation products to create schematic and physical representations of circuits down to the transistor level for analog, mixed-signal, custom digital, memory, and radio frequency designs; and system design and analysis products to develop printed circuit boards and IC packages, as well as to analyze electromagnetic, electro-thermal, and other multi-physics effects.Further, the company provides intellectual property (IP) products comprising pre-verified and customizable functional blocks to integrate into customer's ICs; and verification IP with memory models to emulate and model the expected behavior and interaction of standard industry system interface protocols.Additionally, it offers services related to methodology, education, and hosted design solutions, as well as technical support and maintenance services.The company serves 5G communications, aerospace and defense, automotive, industrial and healthcare, mobile, consumer, and hyperscale computing markets.Cadence Design Systems, Inc. was incorporated in 1987 and is headquartered in San Jose, California.\",\n",
       " 'KLAC': 'Company Description KLA Corporation designs, manufactures, and markets process control, process-enabling, and yield management solutions for the semiconductor and related electronics industries worldwide.It operates through three segments: Semiconductor Process Control; Specialty Semiconductor Process; and PCB, Display and Component Inspection.The company offers inspection and review tools to identify, locate, characterize, review, and analyze defects on various surfaces of patterned and unpatterned wafers; metrology systems that are used to measure pattern dimensions, film thickness, film stress, layer-to-layer alignment, pattern placement, surface topography, and electro-optical properties for wafers; Wafer defect inspection, review, and metrology systems; reticle inspection and metrology systems; chemical process control equipment; wired and wireless sensor wafers and reticles; and semiconductor software solutions that provide run-time process control, defect excursion identification, process corrections, and defect classification to accelerate yield learning rates and reduce production risk.It also provides etch, plasma dicing, deposition, and other wafer processing technologies and solutions for the semiconductor and microelectronics industry.In addition, the company offers direct imaging, inspection, optical shaping, inkjet and additive printing, UV laser drilling and computer-aided manufacturing and engineering solutions for the PCB market; inspection and electrical testing systems to identify and classify defects, as well as systems to repair defects for the display market; and inspection and metrology systems for quality control and yield improvement in advanced and traditional semiconductor packaging markets.The company was formerly known as KLA-Tencor Corporation and changed its name to KLA Corporation in July 2019.KLA Corporation was incorporated in 1975 and is headquartered in Milpitas, California.',\n",
       " 'ROP': \"Company Description Roper Technologies, Inc. designs and develops software, and technology enabled products and solutions.The company offers management, campus solutions, diagnostic and laboratory information management, enterprise management, information solutions, transportation management, financial and compliance management, and cloud-based financial analytics and performance management software; cloud-based software to the property and casualty insurance industry; and software, services, and technologies for foodservice operations.It also provides cloud-based data, collaboration, and estimating automation software; electronic marketplace; visual effects and 3D content software; wireless sensor network and solutions; cloud-based software for the life insurance and financial services industries; supply chain software; health care service and software; RFID card readers; data analytics and information; and pharmacy software solutions.In addition, the company offers ultrasound accessories; dispensers and metering pumps; automated surgical scrub and linen dispensing equipment; water meters; optical and electromagnetic measurement systems; and medical devices.It distributes and sells its products through direct sales, manufacturers' representatives, resellers, and distributors.The company was formerly known as Roper Industries, Inc. and changed its name to Roper Technologies, Inc. in April 2015.The company was incorporated in 1981 and is based in Sarasota, Florida.\",\n",
       " 'NXPI': \"Company Description NXP Semiconductors N.V. offers various semiconductor products.The company's product portfolio includes microcontrollers; application processors, including i.MX application processors, and i.MX 8 and 9 family of applications processors; communication processors; wireless connectivity solutions, such as near field communications, ultra-wideband, Bluetooth low-energy, Zigbee, and Wi-Fi and Wi-Fi/Bluetooth integrated SoCs; analog and interface devices; radio frequency power amplifiers; and security controllers, as well as semiconductor-based environmental and inertial sensors, including pressure, inertial, magnetic, and gyroscopic sensors.The company's products are used in various applications, including automotive, industrial and Internet of Things, mobile, and communication infrastructure.The company markets its products to various original equipment manufacturers, contract manufacturers, and distributors.It operates in China, the Netherlands, the United States, Singapore, Germany, Japan, South Korea, Taiwan, and internationally.The company was formerly known as KASLION Acquisition B.V and changed its name to NXP Semiconductors N.V. in May 2010.NXP Semiconductors N.V. was incorporated in 2006 and is headquartered in Eindhoven, the Netherlands.\",\n",
       " 'APH': 'Company Description Amphenol Corporation, together with its subsidiaries, primarily designs, manufactures, and markets electrical, electronic, and fiber optic connectors in the United States, China, and internationally.It operates through three segments: Harsh Environment Solutions, Communications Solutions, and Interconnect and Sensor Systems.The company offers connectors and connector systems, including harsh environment data, power, high-speed, fiber optic, and radio frequency interconnect products; busbars and power distribution systems; and other connectors.It also provides value-add products, such as backplane interconnect systems, cable assemblies and harnesses, and cable management products; other products comprising flexible and rigid printed circuit boards, hinges, other mechanical, and production related products.In addition, the company offers consumer device, network infrastructure, and other antennas; coaxial, power, and specialty cables; and sensors and sensor-based products.It sells its products through its sales force, independent representatives, and a network of electronics distributors to original equipment manufacturers, electronic manufacturing services companies, original design manufacturers, and service providers in the automotive, broadband communication, commercial aerospace, industrial, information technology and data communication, military, mobile device, and mobile network markets.Amphenol Corporation was founded in 1932 and is headquartered in Wallingford, Connecticut.',\n",
       " 'ANET': \"Company Description Arista Networks, Inc. develops, markets, and sells cloud networking solutions in the Americas, Europe, the Middle East, Africa, and the Asia-Pacific.The company's cloud networking solutions consist of extensible operating systems, a set of network applications, as well as gigabit Ethernet switching and routing platforms.It also provides post contract customer support services, such as technical support, hardware repair and parts replacement beyond standard warranty, bug fix, patch, and upgrade services.The company serves a range of industries comprising internet companies, service providers, financial services organizations, government agencies, media and entertainment companies, telecommunication service providers, and others.It markets and sells its products through distributors, system integrators, value-added resellers, and original equipment manufacturer partners, as well as through its direct sales force.The company was formerly known as Arastra, Inc. and changed its name to Arista Networks, Inc. in October 2008.Arista Networks, Inc. was incorporated in 2004 and is headquartered in Santa Clara, California.\",\n",
       " 'MSI': 'Company Description Motorola Solutions, Inc. provides public safety and enterprise security solutions in the United States, the United Kingdom, Canada, and internationally.The company operates in two segments, Products and Systems Integration, and Software and Services. The Products and Systems Integration segment offers a portfolio of infrastructure, devices, accessories, and video security devices and infrastructure, as well as the implementation and integration of systems, devices, software, and applications for government, public safety, and commercial customers who operate private communications networks and video security solutions, as well as manage a mobile workforce.Its land mobile radio communications, and video security and access control devices include two-way portable and vehicle-mounted radios, fixed and mobile video cameras, and accessories; radio network core and central processing software, base stations, consoles, and repeaters; and video analytics, network video management hardware and software, and access control solutions.The Software and Services segment provides public safety and enterprise command center, unified communications applications, mobile video equipment, and video software solutions; repair, technical support, and maintenance services; and monitoring, software updates, and cybersecurity services.The company was formerly known as Motorola, Inc. and changed its name to Motorola Solutions, Inc. in January 2011.Motorola Solutions, Inc. was founded in 1928 and is headquartered in Chicago, Illinois.',\n",
       " 'ADSK': 'Company Description Autodesk, Inc. provides 3D design, engineering, and entertainment technology solutions worldwide.The company offers AutoCAD Civil 3D, a surveying, design, analysis, and documentation solution for civil engineering, including land development, transportation, and environmental projects; BuildingConnected, a SaaS preconstruction solution; AutoCAD, a software for professional design, drafting, detailing, and visualization; AutoCAD LT, a drafting and detailing software; computer-aided manufacturing (CAM) software for computer numeric control machining, inspection, and modelling for manufacturing; Fusion 360, a 3D CAD, CAM, and computer-aided engineering tool; and Industry Collections tools for professionals in architecture, engineering and construction, product design and manufacturing, and media and entertainment collection industries.It also provides Inventor tools for 3D mechanical design, simulation, analysis, tooling, visualization, and documentation; Vault, a data management software to manage data in one central location, accelerate design processes, and streamline internal/external collaboration; Maya and 3ds Max software products that offer 3D modeling, animation, effects, rendering, and compositing solutions; and ShotGrid, a cloud-based software for review and production tracking in the media and entertainment industry.It sells its products and services to customers directly, as well as through a network of resellers and distributors.Autodesk, Inc. was incorporated in 1982 and is headquartered in San Francisco, California.',\n",
       " 'MCHP': 'Company Description Microchip Technology Incorporated develops, manufactures, and sells smart, connected, and secure embedded control solutions in the Americas, Europe, and Asia.The company offers general purpose 8-bit, 16-bit, and 32-bit microcontrollers; 32-bit embedded mixed-signal microprocessors; and specialized microcontrollers for automotive, industrial, computing, communications, lighting, power supplies, motor control, human machine interface, security, wired connectivity, and wireless connectivity applications.It also provides application development tools that enable system designers to program microcontroller, FPGA, and microprocessor products for specific applications; field-programmable gate array (FPGA) products; and analog, interface, mixed signal, and timing products comprising power management, linear, mixed-signal, high-voltage, thermal management, discrete diodes, and metal oxide semiconductor field effect transistors (MOSFETS), radio frequency (RF), drivers, safety, security, timing, USB, Ethernet, wireless, and other interface products.In addition, the company offers serial electrically erasable programmable read-only memory, serial flash memories, parallel flash memories, serial static random access memories, and serial electrically erasable random access memories for the production of very small footprint devices; and licenses its SuperFlash embedded flash and non-volatile memory technologies to foundries, integrated device manufacturers, and design partners for use in the manufacture of microcontroller products, gate array, RF, analog, and neuromorphic compute products that require embedded non-volatile memory, as well as provides engineering services.Further, it offers wafer foundry and assembly, and test subcontracting manufacturing services; and timing systems products, application specific integrated circuits, and aerospace products.Microchip Technology Incorporated was incorporated in 1989 and is headquartered in Chandler, Arizona.',\n",
       " 'ON': 'Company Description ON Semiconductor Corporation provides intelligent sensing and power solutions in the United States and internationally.The company operates through three segments: Power Solutions Group, Advanced Solutions Group, and Intelligent Sensing Group.Its intelligent power technologies enable the electrification of the automotive industry that allows for lighter and longer-range electric vehicles, empowers fast-charging systems, and propels sustainable energy for the solar strings, industrial power, and storage systems.The company offers analog, discrete, module, and integrated semiconductor products that perform multiple application functions, includes power switching and conversion, signal conditioning, circuit protection, signal amplification, and voltage regulation functions.The company also designs and develops analog, mixed-signal, advanced logic, application specific standard product and ASICs, radio frequency, and integrated power solutions for end-users in end-markets, as well as provides foundry and design services for government customers.In addition, it develops complementary metal oxide semiconductor image sensors, image signal processors, and single photon detectors, include silicon photomultipliers and single photon avalanche diode arrays, as well as actuator drivers for autofocus and image stabilization for a broad base of end-users in various end-markets.ON Semiconductor Corporation was incorporated in 1992 and is headquartered in Scottsdale, Arizona.',\n",
       " 'TEL': 'Company Description TE Connectivity Ltd., together with its subsidiaries, manufactures and sells connectivity and sensor solutions in Europe, the Middle East, Africa, the Asia\"Pacific, and the Americas.The company operates through three segments: Transportation Solutions, Industrial Solutions, and Communications Solutions.The Transportation Solutions segment provides terminals and connector systems and components, sensors, relays, antennas, and application tooling products for use in the automotive, commercial transportation, and sensor markets.The Industrial Solutions segment offers terminals and connector systems and components; and interventional medical components, relays, heat shrink tubing, and wires and cables for industrial equipment, aerospace, defense, marine, medical, and energy markets.The Communications Solutions segment supplies electronic components, such as terminals and connector systems and components, relays, heat shrink tubing, and antennas for the data and devices, and appliances markets.TE Connectivity Ltd. sells its products to approximately 140 countries primarily through direct sales to manufacturers, as well as through third-party distributors.The company was formerly known as Tyco Electronics Ltd. and changed its name to TE Connectivity Ltd. in March 2011.TE Connectivity Ltd. was incorporated in 2000 and is based in Schaffhausen, Switzerland.',\n",
       " 'FTNT': 'Company Description Fortinet, Inc. provides cybersecurity and networking solutions worldwide.It offers FortiGate hardware and software licenses that provide various security and networking functions, including firewall, intrusion prevention, anti-malware, virtual private network, application control, web filtering, anti-spam, and wide area network acceleration.The company also provides FortiSwitch product family that offers secure switching solutions for connecting customers their end devices; FortiAP product family, which provides secure wireless networking solutions; FortiExtender, a hardware appliance; FortiAnalyzer product family, which offers centralized network logging, analyzing, and reporting solutions; and FortiManager product family that provides centralized network logging, analyzing and reporting solutions.It offers FortiWeb product family provides web application firewall solutions; FortiMail product family that secure email gateway solutions; FortiSandbox technology that delivers proactive detection and mitigation services; FortiClient that provides endpoint protection with pattern-based anti-malware, behavior-based exploit protection, web-filtering, and an application firewall; FortiAuthenticator, a zero trust access solution; FortiGate VM, a network firewall virtual appliance; FortiToken, product family for multi-factor authentication to safeguard systems, assets, and data; and FortiEDR/XDR, an endpoint protection solution that provides both machine-learning anti-malware protection and remediation.It provides security subscription, technical support, professional, and training services. It sells its security solutions to channel partners and directly to various customers in telecommunications, technology, government, financial services, education, retail, manufacturing, and healthcare industries.It has strategic alliance with Linksys. The company was incorporated in 2000 and is headquartered in Sunnyvale, California.',\n",
       " 'CTSH': 'Company Description Cognizant Technology Solutions Corporation, a professional services company, provides consulting and technology, and outsourcing services in North America, Europe, and internationally.It operates through four segments: Financial Services; Health Sciences; Products and Resources; and Communications, Media and Technology.The company offers customer experience enhancement, robotic process automation, analytics, and AI services in areas, such as digital lending, fraud detection, and next generation payments; the shift towards consumerism, outcome-based contracting, digital health, delivering integrated seamless, omni-channel, and patient-centered experience; and services that drive operational improvements in areas, such as clinical development, pharmacovigilance, and manufacturing, as well as claims processing, enrollment, membership, and billing to healthcare providers and payers, and life sciences companies, including pharmaceutical, biotech, and medical device companies.It also provides solution to manufacturers, automakers, retailers and travel and hospitality companies, as well as companies providing logistics, energy and utility services; and digital content, the creation of personalized user experience, and acceleration of digital engineering services to communications, media and entertainment, education, and information services and technology companies.The company has a strategic partnership with ServiceNow, Inc. to accelerate adoption of AI-driven automation across industries.The company was founded in 1994 and is headquartered in Teaneck, New Jersey.',\n",
       " 'IT': 'Company Description Gartner, Inc. operates as a research and advisory company in the United States, Canada, Europe, the Middle East, Africa, and internationally.It operates through three segments: Research, Conferences, and Consulting. The Research segment delivers its research primarily through a subscription service that include on-demand access to published research content, data and benchmarks, and direct access to a network of research experts.The Conferences segment offers business professionals in an organization the opportunity to learn, share, and network.The Consulting segment offers market research, custom analysis, and on-the-ground support services. This segment also offers actionable solutions for IT-related priorities, including IT cost optimization, digital transformation, and IT sourcing optimization.Gartner, Inc. was founded in 1979 and is headquartered in Stamford, Connecticut.',\n",
       " 'CDW': 'Company Description CDW Corporation provides information technology (IT) solutions in the United States, the United Kingdom, and Canada.It operates through three segments: Corporate, Small Business, and Public. The company offers discrete hardware and software products and services, as well as integrated IT solutions, including on-premise, hybrid, and cloud capabilities across hybrid infrastructure, digital experience, and security.Its hardware products comprise notebooks/mobile devices, network communications, desktop computers, video monitors, enterprise and data storage, and others; and software products consists of application suites, security, virtualization, operating systems, and network management.The company also provides advisory and design, software development, implementation, managed, professional, configuration, partner, and telecom services, as well as warranties; delivers and manages mission critical software, systems, and network solutions; and implementation and installation, and repair services to its customers through various third-party service providers.It serves government, education, and healthcare customers; and small, medium, and large business customers.CDW Corporation was founded in 1984 and is headquartered in Vernon Hills, Illinois.',\n",
       " 'ANSS': 'Company Description ANSYS, Inc. develops and markets engineering simulation software and services worldwide.It offers ANSYS Workbench, a framework upon which its multiphysics engineering simulation technologies are built and enables engineers to simulate the interactions between structures, heat transfer, fluids, electronics, and optical elements in a unified engineering simulation environment; high-performance computing product suite and the cloud; power analysis and optimization software suite that manages the power budget, power delivery integrity, and power-induced noise in an electronic design; and structural analysis product suite that provides simulation tools for product design and optimization.The company also provides electronics product suite that offers electromagnetic field simulation software for designing electronic and electromechanical products; SCADE product suite, a solution for embedded software simulation, code production, and automated certification; fluids product suite that enables modeling of fluid flow and other related physical phenomena; Ansys Granta products to give access to material intelligence; photonic design and simulation tools; and optical sensor and closed-loop, and real-time simulation, as well as safety-certified embedded software solutions.In addition, the company provides Discovery product family for use in the simulation of product design; and academic product suite used in research and teaching settings, which allows students to become familiar with its simulation software.It serves engineers, designers, researchers, and students in the aerospace and defense, automotive, construction, consumer products, energy, healthcare, high-tech, industrial equipment, and materials and chemical processing industries.ANSYS, Inc. was founded in 1970 and is headquartered in Canonsburg, Pennsylvania.',\n",
       " 'KEYS': \"Company Description Keysight Technologies, Inc. provides electronic design and test solutions to commercial communications, networking, aerospace, defense and government, automotive, energy, semiconductor, electronic, and education industries in the Americas, Europe, and the Asia Pacific.Its Communications Solutions Group segment provides electronic design automation (EDA) software; radio frequency and microwave test solutions, and related software; hardware and virtual network test platforms and software applications, including data center, routing and switching, software defined networking, security, and encryption; oscilloscopes, logic and serial protocol analyzers, logic-signal sources, arbitrary waveform generators, and bit error rate testers; and optical modulation analyzers, optical component analyzers, optical power meters, and optical laser source solutions, as well as resells refurbished used Keysight equipment.The company's Electronic Industrial Solutions Group segment offers design tools; design verification tools; and digital multimeters, function generators, frequency counters, data acquisition systems, audio analyzers, LCR meters, thermal imagers, source measure units, ultra-high precision device current analyzers, and test executive software platforms, as well as various power supplies comprising AC/DC modular supplies and electronically programmable loads.This segment also provides printed-circuit-board-assembly testers, integrated circuit parametric testers, and sub-nano-meter positioning sub-assemblies; and test and measurement products and software.The company offers product support, technical support, and training and consulting services. It sells its products through direct sales force, distributors, resellers, and manufacturer's representatives.Keysight Technologies, Inc. was founded in 1939 and is headquartered in Santa Rosa, California.\",\n",
       " 'GLW': \"Company Description Corning Incorporated engages in the display technologies, optical communications, environmental technologies, specialty materials, and life sciences businesses worldwide.The company's Display Technologies segment offers glass substrates for flat panel displays, including liquid crystal displays and organic light-emitting diodes that are used in televisions, notebook computers, desktop monitors, tablets, and handheld devices.Its Optical Communications segment provides optical fibers and cables; and hardware and equipment products, such as cable assemblies, fiber optic hardware and connectors, optical components and couplers, closures, network interface devices, and other accessories for the telecommunications industry, businesses, governments, and individuals.The company's Specialty Materials segment manufactures products that offer material formulations for glass, glass ceramics, crystals, precision metrology instruments, and software, as well as glass wafers and substrates, tinted sunglasses, and radiation shielding products for various markets comprising mobile consumer electronics, semiconductor equipment optics and consumables, aerospace and defense optics, radiation shielding products, sunglasses, and telecommunications components.Its Environmental Technologies segment provides ceramic substrates and filter products for emissions control in mobile, gasoline, and diesel applications.The company's Life Sciences segment offers laboratory products, including consumables, such as plastic vessels, liquid handling plastics, specialty surfaces, cell culture media, and serum, as well as general labware, and glassware and equipment under the Corning, Falcon, Pyrex, and Axygen brands.Corning Incorporated was formerly known as Corning Glass Works and changed its name to Corning Incorporated in April 1989.The company was founded in 1851 and is headquartered in Corning, New York.\",\n",
       " 'HPE': 'Company Description Hewlett Packard Enterprise Company provides solutions that allow customers to capture, analyze, and act upon data seamlessly in the Americas, Europe, the Middle East, Africa, the Asia Pacific, and Japan.It operates in six segments: Compute, HPC & AI, Storage, Intelligent Edge, Financial Services, and Corporate Investments and Other.The company offers general purpose servers for multi-workload computing and workload-optimized servers; HPE ProLiant rack and tower servers; HPE Synergy; and solutions for secondary workloads and traditional tape, storage networking, and disk products, such as HPE Modular Storage Arrays and HPE XP.It also offers HPE Cray, HPE Apollo, and converged edge systems; and HPE Superdome Flex, HPE Nonstop, and HPE Integrity products.In addition, the company provides HPE Aruba product portfolio that includes hardware products, such as Wi-Fi access points, switches, and gateways; HPE Aruba software and services comprising cloud-based management, network management, network access control, analytics and assurance, and location; and professional and support services, as well as as-a-service and consumption models for the intelligent edge portfolio of products.Further, it offers various leasing, financing, IT consumption, and utility programs and asset management services for customers to facilitate technology deployment models and the acquisition of complete IT solutions, including hardware, software, and services from Hewlett Packard Enterprise and others.Additionally, the company provides consultative-led services; HPE Ezmeral Container Platform; HPE Ezmeral Data Fabric; and Hewlett Packard Labs.It serves commercial and large enterprise groups, such as business and public sector enterprises; and through various partners comprising resellers, distribution partners, original equipment manufacturers, independent software vendors, systems integrators, and advisory firms.The company was founded in 1939 and is headquartered in Spring, Texas.',\n",
       " 'HPQ': 'Company Description HP Inc. provides personal computing and other access devices, imaging and printing products, and related technologies, solutions, and services in the United States and internationally.The company operates through three segments: Personal Systems, Printing, and Corporate Investments. The Personal Systems segment offers commercial and consumer desktops and notebooks, workstations, commercial mobility devices, thin clients, retail point-of-sale systems, displays and peripherals, software, support, and services, as well as video conferencing solutions, cameras, headsets, voice, and related software products.The Printing segment provides consumer and commercial printer hardware, supplies, solutions, and services, as well as focuses on graphics and 3D imaging solutions in the commercial and industrial markets.The Corporate Investments segment is involved in the HP Labs and business incubation, and investment projects.It serves individual consumers, small- and medium-sized businesses, and large enterprises, including customers in the government, health, and education sectors.The company was formerly known as Hewlett-Packard Company and changed its name to HP Inc. in October 2015.HP Inc. was founded in 1939 and is headquartered in Palo Alto, California.',\n",
       " 'MPWR': 'Company Description Monolithic Power Systems, Inc. engages in the design, development, marketing, and sale of semiconductor-based power electronics solutions for the computing and storage, automotive, industrial, communications, and consumer markets.The company provides direct current (DC) to DC integrated circuits (ICs) that are used to convert and control voltages of various electronic systems, such as portable electronic devices, wireless LAN access points, computers and notebooks, monitors, infotainment applications, and medical equipment.It also offers lighting control ICs for backlighting that are used in systems, which provide the light source for LCD panels in notebook computers, monitors, car navigation systems, and televisions, as well as for general illumination products.The company sells its products through third-party distributors and value-added resellers, as well as directly to original equipment manufacturers, original design manufacturers, electronic manufacturing service providers, and other end customers in China, Taiwan, Europe, South Korea, Southeast Asia, Japan, the United States, and internationally.Monolithic Power Systems, Inc. was incorporated in 1997 and is based in Kirkland, Washington.',\n",
       " 'FICO': 'Company Description Fair Isaac Corporation develops analytic, software, and data decisioning technologies and services that enable businesses to automate, enhance, and connect decisions in the Americas, Europe, the Middle East, Africa, and the Asia Pacific.It operates through two segments, Scores and Software. The Software segment provides pre-configured analytic and decision management solution designed for various business needs or processes, such as account origination, customer management, customer engagement, fraud detection, financial crimes compliance, and marketing, as well as associated professional services.This segment also offers FICO Platform, a modular software offering designed to support advanced analytic and decision use cases, as well as stand-alone analytic and decisioning software that can be configured by customers to address a wide range of business use cases.The Scores segment provides business-to-business scoring solutions and services for consumers that give clients access to predictive credit and other scores that can be integrated into their transaction streams and decision-making processes, as well as business-to-consumer scoring solutions comprising myFICO.com subscription offerings.Fair Isaac Corporation markets its products and services primarily through its direct sales organization and indirect channels, as well as online.The company was formerly known as Fair Isaac & Company, Inc. and changed its name to Fair Isaac Corporation in July 1992.Fair Isaac Corporation was founded in 1956 and is headquartered in Bozeman, Montana.',\n",
       " 'TDY': \"Company Description Teledyne Technologies Incorporated, together with its subsidiaries, provides enabling technologies for industrial growth markets in the United States, Canada, the United Kingdom, France, and internationally.The company's Instrumentation segment offers monitoring and control instruments for marine, environmental, industrial, and other applications, as well as electronic test and measurement equipment; and power and communications connectivity devices for distributed instrumentation systems and sensor networks.Its Digital Imaging segment provides visible spectrum sensors and digital cameras for industrial machine vision and automated quality control, as well as for medical, research, and scientific applications; and infrared and X-ray spectra for use in industrial, government, and medical applications, as well as micro electromechanical systems and semiconductors, including analog-to-digital and digital-to-analog converters.This segment also offers thermal imaging systems, visible-light imaging systems, locater systems, measurement and diagnostic systems, and threat-detection solutions.The company's Aerospace and Defense Electronics segment provides electronic components and subsystems, as well as communications products, such as defense electronics, environment interconnects, data acquisition and communications equipment for aircraft, components and subsystems for wireless and satellite communications, and general aviation batteries.Its Engineered Systems segment offers systems engineering and integration, technology development, and manufacturing solutions for defense, space, environmental, and energy applications; and designs and manufactures electrochemical energy systems and electronics for military applications.The company markets and sells its products and services through a direct internal sales force, as well as third-party sales representatives and distributors.The company was founded in 1960 and is headquartered in Thousand Oaks, California.\",\n",
       " 'VRSN': 'Company Description VeriSign, Inc., together with its subsidiaries, provides domain name registry services and internet infrastructure that enables internet navigation for various recognized domain names worldwide.The company enables the security, stability, and resiliency of internet infrastructure and services, including providing root zone maintainer services, operating two of the 13 internet root servers; and offering registration services and authoritative resolution for the .com and .net domains, which supports global e-commerce.It also back-end systems for .cc, .gov, .edu, and .name domain names, as well as operates distributed servers, networking, security, and data integrity services.The company was incorporated in 1995 and is headquartered in Reston, Virginia.',\n",
       " 'FSLR': 'Company Description First Solar, Inc. provides photovoltaic (PV) solar energy solutions in the United State, Japan, France, Canada, India, Australia, and internationally.The company designs, manufactures, and sells cadmium telluride solar modules that converts sunlight into electricity.It serves developers and operators of systems, utilities, independent power producers, commercial and industrial companies, and other system owners.The company was formerly known as First Solar Holdings, Inc. and changed its name to First Solar, Inc. in 2006.First Solar, Inc. was founded in 1999 and is headquartered in Tempe, Arizona.',\n",
       " 'PTC': 'Company Description PTC Inc. operates as software company in the Americas, Europe, and the Asia Pacific.The company operates in two segments, Software Products and Professional Services. It offers ThingWorx platform, which offers end-to-end capabilities to enable digital transformation; and Vuforia, which enables the creation of AR.In addition, the company provides Onshape, a cloud product development platform that delivers computer-aided design with data management tools; Arena, a PLM and QMS products that delivers cloud solutions; Creo, a 3D CAD technology enables for product design and development, and Windchill, a product lifecycle management software.Further, it offers Servigistics, service parts management solution; Codebeamer, an application lifecycle management for products and software development.PTC Inc. was incorporated in 1985 and is headquartered in Boston, Massachusetts.',\n",
       " 'ENPH': 'Company Description Enphase Energy, Inc., together with its subsidiaries, designs, develops, manufactures, and sells home energy solutions for the solar photovoltaic industry in the United States and internationally.The company offers semiconductor-based microinverter, which converts energy at the individual solar module level, and combines with its proprietary networking and software technologies to provide energy monitoring and control services.It also provides microinverter units and related accessories, an IQ gateway; IQ batteries; the cloud-based Enlighten monitoring service; storage solutions; and electric vehicle charging solutions; and design, proposal, permitting, and lead generation services.The company sells its solutions to solar distributors; and directly to large installers, original equipment manufacturers, strategic partners, and homeowners, as well as through its legacy product upgrade program or online store.Enphase Energy, Inc. was incorporated in 2006 and is headquartered in Fremont, California.',\n",
       " 'TYL': 'Company Description Tyler Technologies, Inc. provides integrated information management solutions and services for the public sector.It operates in two segments, Enterprise Software, and Platform Technologies. The company offers financial management solutions, including modular fund accounting systems for government agencies or not-for-profit entities; utility billing systems for the billing and collection of metered and non-metered services; products to automate city and county functions, such as municipal courts, parking tickets, equipment and project costing, animal and business licenses, permits and inspections, code enforcement, citizen complaint tracking, ambulance billing, fleet maintenance, and cemetery records management; student information and transportation solutions for K-12 schools; and financial management systems.It also provides a suite of judicial solutions comprising court case management, court and law enforcement, prosecutor, and supervision systems to handle multi-jurisdictional county or statewide implementations, and single county systems; public safety software solutions; systems and software to automate the appraisal and assessment of real and personal property, as well as tax applications for agencies that bill and collect taxes; planning, regulatory, and maintenance software solutions for public sector agencies; software applications to enhance and automate operations involving records and document management; and data and insights solutions.In addition, the company offers software as a service arrangements and electronic document filing solutions for courts and law offices; software and hardware installation, data conversion, training, product modification, and maintenance and support services; and property appraisal outsourcing services for taxing jurisdictions.It has a strategic collaboration agreement with Amazon Web Services for cloud hosting services. Tyler Technologies, Inc. was founded in 1966 and is headquartered in Plano, Texas.'}"
      ]
     },
     "execution_count": 10,
     "metadata": {},
     "output_type": "execute_result"
    }
   ],
   "source": [
    "xlk_info"
   ]
  },
  {
   "cell_type": "code",
   "execution_count": 11,
   "id": "c138a63b",
   "metadata": {},
   "outputs": [],
   "source": [
    "com_info = pd.DataFrame(xlk_info, index=['description']).T\n",
    "com_info.to_csv('./open/com_info.csv')"
   ]
  },
  {
   "cell_type": "code",
   "execution_count": null,
   "id": "12cd774c",
   "metadata": {},
   "outputs": [],
   "source": []
  }
 ],
 "metadata": {
  "kernelspec": {
   "display_name": "Python 3",
   "language": "python",
   "name": "python3"
  },
  "language_info": {
   "codemirror_mode": {
    "name": "ipython",
    "version": 3
   },
   "file_extension": ".py",
   "mimetype": "text/x-python",
   "name": "python",
   "nbconvert_exporter": "python",
   "pygments_lexer": "ipython3",
   "version": "3.9.6"
  }
 },
 "nbformat": 4,
 "nbformat_minor": 5
}
