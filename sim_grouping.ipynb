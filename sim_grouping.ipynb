{
 "cells": [
  {
   "cell_type": "code",
   "execution_count": 1,
   "id": "0fd3656a",
   "metadata": {},
   "outputs": [],
   "source": [
    "import pandas as pd\n",
    "import numpy as np\n",
    "from tqdm import tqdm"
   ]
  },
  {
   "cell_type": "code",
   "execution_count": 2,
   "id": "b5d746d0",
   "metadata": {},
   "outputs": [
    {
     "data": {
      "text/html": [
       "<div>\n",
       "<style scoped>\n",
       "    .dataframe tbody tr th:only-of-type {\n",
       "        vertical-align: middle;\n",
       "    }\n",
       "\n",
       "    .dataframe tbody tr th {\n",
       "        vertical-align: top;\n",
       "    }\n",
       "\n",
       "    .dataframe thead th {\n",
       "        text-align: right;\n",
       "    }\n",
       "</style>\n",
       "<table border=\"1\" class=\"dataframe\">\n",
       "  <thead>\n",
       "    <tr style=\"text-align: right;\">\n",
       "      <th></th>\n",
       "      <th>rgs_dt</th>\n",
       "      <th>tck_iem_cd</th>\n",
       "      <th>til_ifo</th>\n",
       "      <th>ctgy_cfc_ifo</th>\n",
       "      <th>mdi_ifo</th>\n",
       "      <th>news_smy_ifo</th>\n",
       "      <th>rld_ose_iem_tck_cd</th>\n",
       "      <th>url_ifo</th>\n",
       "      <th>article</th>\n",
       "      <th>summary</th>\n",
       "    </tr>\n",
       "  </thead>\n",
       "  <tbody>\n",
       "    <tr>\n",
       "      <th>0</th>\n",
       "      <td>20230801</td>\n",
       "      <td>Latest</td>\n",
       "      <td>Steady Start Seen For Indonesia Stock Market</td>\n",
       "      <td>Markets</td>\n",
       "      <td>RTTNews</td>\n",
       "      <td>(RTTNews) - The Indonesia stock market has mov...</td>\n",
       "      <td>_</td>\n",
       "      <td>https://www.nasdaq.com/articles/steady-start-s...</td>\n",
       "      <td>July 31, 2023 — 09:34 pm EDT      Written by  ...</td>\n",
       "      <td>The Indonesia stock market has risen by more t...</td>\n",
       "    </tr>\n",
       "    <tr>\n",
       "      <th>1</th>\n",
       "      <td>20230801</td>\n",
       "      <td>ARES</td>\n",
       "      <td>Ares Management (ARES) Q2 Earnings: Taking a L...</td>\n",
       "      <td>Technology</td>\n",
       "      <td>Zacks</td>\n",
       "      <td>For the quarter ended June 2023, Ares Manageme...</td>\n",
       "      <td>ARES</td>\n",
       "      <td>https://www.nasdaq.com/articles/ares-managemen...</td>\n",
       "      <td>August 01, 2023 — 09:30 am EDT      Written by...</td>\n",
       "      <td>Ares Management reported revenue of $792.1 mil...</td>\n",
       "    </tr>\n",
       "    <tr>\n",
       "      <th>2</th>\n",
       "      <td>20230801</td>\n",
       "      <td>EW</td>\n",
       "      <td>RBC Capital Reiterates Edwards Lifesciences (E...</td>\n",
       "      <td>Stocks</td>\n",
       "      <td>Fintel</td>\n",
       "      <td>Fintel reports that on August 1, 2023, RBC Cap...</td>\n",
       "      <td>EW</td>\n",
       "      <td>https://www.nasdaq.com/articles/rbc-capital-re...</td>\n",
       "      <td>August 01, 2023 — 07:30 pm EDT      Written by...</td>\n",
       "      <td>RBC Capital reiterated its Outperform recommen...</td>\n",
       "    </tr>\n",
       "    <tr>\n",
       "      <th>3</th>\n",
       "      <td>20230801</td>\n",
       "      <td>LMAT</td>\n",
       "      <td>Noteworthy Tuesday Option Activity: LMAT, MSTR...</td>\n",
       "      <td>Markets,Stocks,Options</td>\n",
       "      <td>BNK Invest</td>\n",
       "      <td>Looking at options trading activity among comp...</td>\n",
       "      <td>LMAT,LMAT,MSTR,TPC</td>\n",
       "      <td>https://www.nasdaq.com/articles/noteworthy-tue...</td>\n",
       "      <td>August 01, 2023 — 03:19 pm EDT      Written by...</td>\n",
       "      <td>BNK Invest analyzed options trading activity a...</td>\n",
       "    </tr>\n",
       "    <tr>\n",
       "      <th>4</th>\n",
       "      <td>20230801</td>\n",
       "      <td>EW</td>\n",
       "      <td>Notable Two Hundred Day Moving Average Cross - EW</td>\n",
       "      <td>Markets,Stocks</td>\n",
       "      <td>BNK Invest</td>\n",
       "      <td>In trading on Tuesday, shares of Edwards Lifes...</td>\n",
       "      <td>EW</td>\n",
       "      <td>https://www.nasdaq.com/articles/notable-two-hu...</td>\n",
       "      <td>August 01, 2023 — 11:07 am EDT      Written by...</td>\n",
       "      <td>On August 1, 2023, at 11:07 am EDT, shares of ...</td>\n",
       "    </tr>\n",
       "  </tbody>\n",
       "</table>\n",
       "</div>"
      ],
      "text/plain": [
       "     rgs_dt tck_iem_cd                                            til_ifo  \\\n",
       "0  20230801     Latest       Steady Start Seen For Indonesia Stock Market   \n",
       "1  20230801       ARES  Ares Management (ARES) Q2 Earnings: Taking a L...   \n",
       "2  20230801         EW  RBC Capital Reiterates Edwards Lifesciences (E...   \n",
       "3  20230801       LMAT  Noteworthy Tuesday Option Activity: LMAT, MSTR...   \n",
       "4  20230801         EW  Notable Two Hundred Day Moving Average Cross - EW   \n",
       "\n",
       "             ctgy_cfc_ifo     mdi_ifo  \\\n",
       "0                 Markets     RTTNews   \n",
       "1              Technology       Zacks   \n",
       "2                  Stocks      Fintel   \n",
       "3  Markets,Stocks,Options  BNK Invest   \n",
       "4          Markets,Stocks  BNK Invest   \n",
       "\n",
       "                                        news_smy_ifo  rld_ose_iem_tck_cd  \\\n",
       "0  (RTTNews) - The Indonesia stock market has mov...                   _   \n",
       "1  For the quarter ended June 2023, Ares Manageme...                ARES   \n",
       "2  Fintel reports that on August 1, 2023, RBC Cap...                  EW   \n",
       "3  Looking at options trading activity among comp...  LMAT,LMAT,MSTR,TPC   \n",
       "4  In trading on Tuesday, shares of Edwards Lifes...                  EW   \n",
       "\n",
       "                                             url_ifo  \\\n",
       "0  https://www.nasdaq.com/articles/steady-start-s...   \n",
       "1  https://www.nasdaq.com/articles/ares-managemen...   \n",
       "2  https://www.nasdaq.com/articles/rbc-capital-re...   \n",
       "3  https://www.nasdaq.com/articles/noteworthy-tue...   \n",
       "4  https://www.nasdaq.com/articles/notable-two-hu...   \n",
       "\n",
       "                                             article  \\\n",
       "0  July 31, 2023 — 09:34 pm EDT      Written by  ...   \n",
       "1  August 01, 2023 — 09:30 am EDT      Written by...   \n",
       "2  August 01, 2023 — 07:30 pm EDT      Written by...   \n",
       "3  August 01, 2023 — 03:19 pm EDT      Written by...   \n",
       "4  August 01, 2023 — 11:07 am EDT      Written by...   \n",
       "\n",
       "                                             summary  \n",
       "0  The Indonesia stock market has risen by more t...  \n",
       "1  Ares Management reported revenue of $792.1 mil...  \n",
       "2  RBC Capital reiterated its Outperform recommen...  \n",
       "3  BNK Invest analyzed options trading activity a...  \n",
       "4  On August 1, 2023, at 11:07 am EDT, shares of ...  "
      ]
     },
     "execution_count": 2,
     "metadata": {},
     "output_type": "execute_result"
    }
   ],
   "source": [
    "summary = pd.read_csv('./news_summary.csv')\n",
    "summary.head()"
   ]
  },
  {
   "cell_type": "markdown",
   "id": "0028483a",
   "metadata": {},
   "source": [
    "## Simmilarity"
   ]
  },
  {
   "cell_type": "code",
   "execution_count": 3,
   "id": "42161a6b",
   "metadata": {},
   "outputs": [],
   "source": [
    "from sklearn.feature_extraction.text import TfidfVectorizer\n",
    "from sklearn.metrics.pairwise import cosine_similarity\n",
    "import nltk\n",
    "from nltk.corpus import stopwords\n",
    "from nltk.tokenize import word_tokenize"
   ]
  },
  {
   "cell_type": "code",
   "execution_count": 4,
   "id": "8e3e2bb0",
   "metadata": {},
   "outputs": [
    {
     "name": "stderr",
     "output_type": "stream",
     "text": [
      "[nltk_data] Downloading package stopwords to\n",
      "[nltk_data]     /Users/sewoong/nltk_data...\n",
      "[nltk_data]   Package stopwords is already up-to-date!\n",
      "[nltk_data] Downloading package punkt to /Users/sewoong/nltk_data...\n",
      "[nltk_data]   Package punkt is already up-to-date!\n"
     ]
    }
   ],
   "source": [
    "nltk.download('stopwords')\n",
    "nltk.download('punkt')\n",
    "stop_words = set(stopwords.words('english'))"
   ]
  },
  {
   "cell_type": "code",
   "execution_count": 5,
   "id": "5a855e79",
   "metadata": {},
   "outputs": [],
   "source": [
    "# 텍스트를 토큰화하고 불용어(stopwords)를 제거하는 함수\n",
    "def preprocess_text(text):\n",
    "    words = word_tokenize(text.lower())\n",
    "    words = [word for word in words if word.isalpha() and word not in stop_words] #알파벳뺴고 모두 제거?\n",
    "    return ' '.join(words)\n",
    "\n",
    "def get_similiarity(text1,text2):\n",
    "    processed_article_1 = preprocess_text(text1)\n",
    "    processed_article_2 = preprocess_text(text2)\n",
    "    \n",
    "    vectorizer = TfidfVectorizer()\n",
    "    tfidf_matrix = vectorizer.fit_transform([processed_article_1, processed_article_2])\n",
    "\n",
    "    # 코사인 유사도 계산\n",
    "    cosine_similarities = cosine_similarity(tfidf_matrix[0], tfidf_matrix[1])\n",
    "\n",
    "    # 결과 출력\n",
    "    #print(\"Similarity between the two news articles:\", cosine_similarities[0][0])\n",
    "    return cosine_similarities[0][0]"
   ]
  },
  {
   "cell_type": "code",
   "execution_count": 56,
   "id": "bdc515eb",
   "metadata": {},
   "outputs": [],
   "source": [
    "n = summary.shape[0]\n",
    "sim_matrix = np.array([np.NaN]*(n*n)).reshape(n,n)"
   ]
  },
  {
   "cell_type": "code",
   "execution_count": 57,
   "id": "5efad9ba",
   "metadata": {},
   "outputs": [
    {
     "name": "stderr",
     "output_type": "stream",
     "text": [
      "100%|█████████████████████████████████████████| 998/998 [10:52<00:00,  1.53it/s]\n"
     ]
    }
   ],
   "source": [
    "for i in tqdm(range(n)):\n",
    "    txt1 = summary.loc[i,'news_smy_ifo']\n",
    "    arr = sim_matrix[i]\n",
    "    for j in range(n):\n",
    "        if np.isnan(arr[j]):\n",
    "            txt2 =  summary.loc[j,'news_smy_ifo']      \n",
    "            sim = get_similiarity(txt1,txt2)\n",
    "            arr[j] = sim\n",
    "            sim_matrix[j][i] = sim  \n",
    "    sim_matrix[i] = arr"
   ]
  },
  {
   "cell_type": "code",
   "execution_count": 60,
   "id": "ae5acd20",
   "metadata": {},
   "outputs": [],
   "source": [
    "graph = [[] for _ in range(n)]\n",
    "\n",
    "group = np.array([-1] * n)\n",
    "\n",
    "# 그룹 수\n",
    "count = 1"
   ]
  },
  {
   "cell_type": "code",
   "execution_count": 61,
   "id": "2b768075",
   "metadata": {},
   "outputs": [
    {
     "name": "stderr",
     "output_type": "stream",
     "text": [
      "100%|███████████████████████████████████████| 998/998 [00:00<00:00, 6291.17it/s]\n"
     ]
    }
   ],
   "source": [
    "threshold = 0.4\n",
    "\n",
    "for i in tqdm(range(n)):\n",
    "    temp_sim = sim_matrix[i]\n",
    "    for j,sim in enumerate(temp_sim):\n",
    "        if i==j:\n",
    "            continue\n",
    "        if sim>threshold:\n",
    "            graph[i].append(j)\n",
    "            graph[j].append(i)"
   ]
  },
  {
   "cell_type": "code",
   "execution_count": 62,
   "id": "825cc386",
   "metadata": {},
   "outputs": [
    {
     "name": "stderr",
     "output_type": "stream",
     "text": [
      "100%|█████████████████████████████████████| 998/998 [00:00<00:00, 111262.44it/s]"
     ]
    },
    {
     "name": "stdout",
     "output_type": "stream",
     "text": [
      "197\n"
     ]
    },
    {
     "name": "stderr",
     "output_type": "stream",
     "text": [
      "\n"
     ]
    }
   ],
   "source": [
    "# node와 연결된 노드 탐색\n",
    "def dfs(node):\n",
    "\n",
    "    for neighbor in graph[node]:\n",
    "\n",
    "        # 연결된 노드가 속한 그룹이 없다면\n",
    "        if (group[neighbor] == -1):\n",
    "\n",
    "            # node와 연결된 노드들을 모두 같은 그룹으로 처리\n",
    "            group[neighbor] = group[node]\n",
    "\n",
    "            # 연결된 노드들을 기준으로 dfs 반복\n",
    "            dfs(neighbor)\n",
    "\n",
    "# 1번 노드부터 마지막 노드까지 순서대로 탐색하며\n",
    "# 현재 노드와 연결된 노드들을 모두 같은 그룹으로 처리\n",
    "for i in tqdm(range(n)):\n",
    "\n",
    "    # 현재 노드가 어떤 그룹에도 속해 있지 않은 경우, 해당 노드를 새로운 그룹으로 할당\n",
    "    if (group[i] == -1):\n",
    "        group[i] = count\n",
    "        count += 1\n",
    "        dfs(i)\n",
    "\n",
    "# # 연결된 요소의 개수 출력\n",
    "print(count-1)"
   ]
  },
  {
   "cell_type": "code",
   "execution_count": 66,
   "id": "833a4078",
   "metadata": {},
   "outputs": [],
   "source": [
    "uniq,cnts = np.unique(group,return_counts=True)"
   ]
  },
  {
   "cell_type": "code",
   "execution_count": 72,
   "id": "a11e1e05",
   "metadata": {},
   "outputs": [],
   "source": [
    "argsort = cnts.argsort()[::-1]\n",
    "cnts = cnts[argsort]\n",
    "uniq = uniq[argsort]"
   ]
  },
  {
   "cell_type": "code",
   "execution_count": 73,
   "id": "8cebf1e1",
   "metadata": {},
   "outputs": [
    {
     "data": {
      "text/plain": [
       "array([  3,   6,  15,   2,  36,   4,  17,   5,   9,  43,  18,  60,  11,\n",
       "        12,  29,  38,  89,   7,  13,  20,   1, 107,  48,  61,  27,  31,\n",
       "        28,  46,  87,  52,  16,   8,  85,  75,  34, 159,  35, 147,  54,\n",
       "        74,  72, 143,  98, 138,  94,  56,  30,  37,  88,  33,  86,  78,\n",
       "        40, 108,  79,  83,  14, 116, 113, 112,  64,  66,  76, 106, 104,\n",
       "       102,  69,  71,  73,  77,  93,  26, 125,  25, 149,  45, 141,  44,\n",
       "        21, 145, 146, 150,  19,  23, 157, 162,  24, 166, 172,  47,  81,\n",
       "        49,  53,  50, 132, 131, 128, 129, 130,  10,  39,  57,  58,  32,\n",
       "        59,  22,  62,  41,  67,  42,  63,  51,  65,  70,  55,  68,  80,\n",
       "       197,  82, 167, 175, 174, 173, 171, 170, 169, 168, 165, 177, 164,\n",
       "       163, 161, 160, 158, 156, 155, 176, 178, 153, 188, 195, 194, 193,\n",
       "       192, 191, 190, 189, 187, 179, 186, 185, 184, 183, 182, 181, 180,\n",
       "       154, 152,  84, 101, 115, 114, 111, 110, 109, 105, 103, 100, 118,\n",
       "       196,  97,  96,  95,  92,  91,  90, 117, 119, 151, 135, 148, 144,\n",
       "       142, 140, 139, 137, 136, 134, 120, 133, 127, 126, 124, 123, 122,\n",
       "       121,  99])"
      ]
     },
     "execution_count": 73,
     "metadata": {},
     "output_type": "execute_result"
    }
   ],
   "source": [
    "uniq"
   ]
  },
  {
   "cell_type": "code",
   "execution_count": 74,
   "id": "6c178aea",
   "metadata": {},
   "outputs": [
    {
     "data": {
      "text/plain": [
       "array([192, 183,  51,  45,  30,  25,  23,  15,  14,  13,  12,  12,  12,\n",
       "        12,   8,   8,   7,   7,   7,   6,   6,   6,   5,   5,   5,   5,\n",
       "         5,   5,   4,   4,   4,   4,   4,   4,   4,   4,   4,   3,   3,\n",
       "         3,   3,   3,   3,   3,   3,   3,   3,   3,   3,   3,   3,   3,\n",
       "         3,   2,   2,   2,   2,   2,   2,   2,   2,   2,   2,   2,   2,\n",
       "         2,   2,   2,   2,   2,   2,   2,   2,   2,   2,   2,   2,   2,\n",
       "         2,   2,   2,   2,   2,   2,   2,   2,   2,   2,   2,   2,   2,\n",
       "         2,   2,   2,   2,   2,   2,   2,   2,   1,   1,   1,   1,   1,\n",
       "         1,   1,   1,   1,   1,   1,   1,   1,   1,   1,   1,   1,   1,\n",
       "         1,   1,   1,   1,   1,   1,   1,   1,   1,   1,   1,   1,   1,\n",
       "         1,   1,   1,   1,   1,   1,   1,   1,   1,   1,   1,   1,   1,\n",
       "         1,   1,   1,   1,   1,   1,   1,   1,   1,   1,   1,   1,   1,\n",
       "         1,   1,   1,   1,   1,   1,   1,   1,   1,   1,   1,   1,   1,\n",
       "         1,   1,   1,   1,   1,   1,   1,   1,   1,   1,   1,   1,   1,\n",
       "         1,   1,   1,   1,   1,   1,   1,   1,   1,   1,   1,   1,   1,\n",
       "         1,   1])"
      ]
     },
     "execution_count": 74,
     "metadata": {},
     "output_type": "execute_result"
    }
   ],
   "source": [
    "cnts"
   ]
  },
  {
   "cell_type": "code",
   "execution_count": 88,
   "id": "2726a41e",
   "metadata": {},
   "outputs": [],
   "source": [
    "ids = np.where(np.array(group)==3)[0]"
   ]
  },
  {
   "cell_type": "code",
   "execution_count": 91,
   "id": "33bec5a1",
   "metadata": {},
   "outputs": [
    {
     "data": {
      "text/plain": [
       "449"
      ]
     },
     "execution_count": 91,
     "metadata": {},
     "output_type": "execute_result"
    }
   ],
   "source": [
    "ids[np.argmax([len(graph[i]) for i in ids])]"
   ]
  },
  {
   "cell_type": "code",
   "execution_count": 92,
   "id": "4084a554",
   "metadata": {},
   "outputs": [
    {
     "data": {
      "text/plain": [
       "rgs_dt                                                         20230801\n",
       "tck_iem_cd                                                         ARCB\n",
       "til_ifo               Citigroup Maintains ArcBest (ARCB) Buy Recomme...\n",
       "ctgy_cfc_ifo                                                     Stocks\n",
       "mdi_ifo                                                          Fintel\n",
       "news_smy_ifo          Fintel reports that on July 31, 2023, Citigrou...\n",
       "rld_ose_iem_tck_cd                                                 ARCB\n",
       "url_ifo               https://www.nasdaq.com/articles/citigroup-main...\n",
       "article               August 01, 2023 — 09:02 am EDT      Written by...\n",
       "summary               Fintel reports that on July 31, 2023, Citigrou...\n",
       "Name: 449, dtype: object"
      ]
     },
     "execution_count": 92,
     "metadata": {},
     "output_type": "execute_result"
    }
   ],
   "source": [
    "summary.iloc[449]"
   ]
  }
 ],
 "metadata": {
  "kernelspec": {
   "display_name": "PyTorch",
   "language": "python",
   "name": "pytorch"
  },
  "language_info": {
   "codemirror_mode": {
    "name": "ipython",
    "version": 3
   },
   "file_extension": ".py",
   "mimetype": "text/x-python",
   "name": "python",
   "nbconvert_exporter": "python",
   "pygments_lexer": "ipython3",
   "version": "3.8.15"
  }
 },
 "nbformat": 4,
 "nbformat_minor": 5
}
